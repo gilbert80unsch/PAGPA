{
 "cells": [
  {
   "cell_type": "markdown",
   "id": "dd7abe29-9b35-44b3-89f9-005161e41439",
   "metadata": {},
   "source": [
    "# Números en `Python`"
   ]
  },
  {
   "cell_type": "markdown",
   "id": "d48aaedb-1f26-430d-a206-e1bcba7002d5",
   "metadata": {},
   "source": [
    "## Tipos de números\n",
    "\n",
    "- `int`: número entero\n",
    "- `float`: número en coma flotante\n",
    "\n",
    "Para saber el tipo de dato de un número podemos utilizar la función `type()`"
   ]
  },
  {
   "cell_type": "code",
   "execution_count": 1,
   "id": "c81ecb70-098a-4050-807f-43b8b4e73c90",
   "metadata": {},
   "outputs": [],
   "source": [
    "a = 5"
   ]
  },
  {
   "cell_type": "code",
   "execution_count": 2,
   "id": "4e8c7cac-16e4-474c-9850-46b095cd7e24",
   "metadata": {},
   "outputs": [
    {
     "name": "stdout",
     "output_type": "stream",
     "text": [
      "Tipo clase: <class 'int'>\n",
      "Valor dato a: 5\n"
     ]
    }
   ],
   "source": [
    "print(\"Tipo clase:\", type(a))\n",
    "print(\"Valor dato a:\",a)"
   ]
  },
  {
   "cell_type": "code",
   "execution_count": 4,
   "id": "f7fc4924-3205-4d27-ad4e-d7e96cdc2d6f",
   "metadata": {},
   "outputs": [
    {
     "name": "stdout",
     "output_type": "stream",
     "text": [
      "Tipo clase: <class 'float'>\n",
      "Valor dato b+a: 8.141617\n"
     ]
    }
   ],
   "source": [
    "b = 3.141617\n",
    "print(\"Tipo clase:\", type(b))\n",
    "print(\"Valor dato b+a:\",b+a)"
   ]
  },
  {
   "cell_type": "markdown",
   "id": "a0e6fd38-f0a1-469a-ac7b-a6e7282c180c",
   "metadata": {},
   "source": [
    "**Observación.** En `Python`, para referirnos a números de tipo `float` con todo 0's en la parte decimal como `3.0`, basta que indiquemos `3.`. Es decir, `Python` entiende que los números `3.0` y `3.` son el mismo, incluyendo que son del mismo tipo: `float`."
   ]
  },
  {
   "cell_type": "markdown",
   "id": "fb21f9ae-645b-45f4-baff-a34c9eeafd43",
   "metadata": {},
   "source": [
    "## Convertir a numéricos"
   ]
  },
  {
   "cell_type": "markdown",
   "id": "e4971d68-5cb9-44a3-bc1a-9afb0ff9da32",
   "metadata": {},
   "source": [
    "Para convertir a tipos numéricos debe usar las siguientes funciones integradas en el interprete Python:\n",
    "- La función `int()` devuelve un tipo de datos número entero.\n",
    "- La función `float()` devuelve un tipo de datos número entero float."
   ]
  },
  {
   "cell_type": "code",
   "execution_count": null,
   "id": "2356305e-702b-47af-9ef3-6ccc41434eeb",
   "metadata": {
    "jupyter": {
     "source_hidden": true
    },
    "tags": []
   },
   "outputs": [],
   "source": []
  },
  {
   "cell_type": "code",
   "execution_count": 6,
   "id": "cc7cae2c-1d52-4aba-8fe6-3f6ad72473b9",
   "metadata": {},
   "outputs": [
    {
     "data": {
      "text/plain": [
       "int"
      ]
     },
     "execution_count": 6,
     "metadata": {},
     "output_type": "execute_result"
    }
   ],
   "source": [
    "type(int(7.6))"
   ]
  },
  {
   "cell_type": "code",
   "execution_count": 5,
   "id": "042ccb9c-3974-4561-958c-b995e3ac1117",
   "metadata": {
    "tags": []
   },
   "outputs": [
    {
     "data": {
      "text/plain": [
       "7"
      ]
     },
     "execution_count": 5,
     "metadata": {},
     "output_type": "execute_result"
    }
   ],
   "source": [
    "int(7.6)"
   ]
  },
  {
   "cell_type": "code",
   "execution_count": 7,
   "id": "5bd0ec47-463f-4b45-8ba3-68d62c46bdcf",
   "metadata": {},
   "outputs": [
    {
     "data": {
      "text/plain": [
       "4.0"
      ]
     },
     "execution_count": 7,
     "metadata": {},
     "output_type": "execute_result"
    }
   ],
   "source": [
    "float(4)"
   ]
  },
  {
   "cell_type": "code",
   "execution_count": 8,
   "id": "d50fbcfe-435d-4df0-ba36-4d5167b5d127",
   "metadata": {},
   "outputs": [
    {
     "data": {
      "text/plain": [
       "float"
      ]
     },
     "execution_count": 8,
     "metadata": {},
     "output_type": "execute_result"
    }
   ],
   "source": [
    "type(float(3))"
   ]
  },
  {
   "cell_type": "markdown",
   "id": "9f7d8da4-8a58-42fa-9e7a-f9d917fe97a9",
   "metadata": {},
   "source": [
    "## Operaciones aritméticas"
   ]
  },
  {
   "cell_type": "markdown",
   "id": "3b07f983-3a61-4d18-b178-6fe67520538e",
   "metadata": {},
   "source": [
    "### Operador Suma\n",
    "El operador `+` suma los valores de tipo de datos numéricos."
   ]
  },
  {
   "cell_type": "code",
   "execution_count": 29,
   "id": "c64d85a9-2ad1-4296-9323-315ac37fca7c",
   "metadata": {},
   "outputs": [
    {
     "data": {
      "text/plain": [
       "3"
      ]
     },
     "execution_count": 29,
     "metadata": {},
     "output_type": "execute_result"
    }
   ],
   "source": [
    "2 + 1"
   ]
  },
  {
   "cell_type": "code",
   "execution_count": 30,
   "id": "219cd779-aea3-4128-aa3a-aba7ed974a40",
   "metadata": {},
   "outputs": [
    {
     "data": {
      "text/plain": [
       "3.0"
      ]
     },
     "execution_count": 30,
     "metadata": {},
     "output_type": "execute_result"
    }
   ],
   "source": [
    "2 + 1.0"
   ]
  },
  {
   "cell_type": "markdown",
   "id": "c1998483-d5aa-43e5-8126-206a641c6c24",
   "metadata": {},
   "source": [
    "### Operador Resta\n",
    "El operador `-` resta los valores de tipo de datos numéricos."
   ]
  },
  {
   "cell_type": "code",
   "execution_count": 31,
   "id": "878c2665-d08d-4b07-9fbe-31c12b8aeef5",
   "metadata": {},
   "outputs": [
    {
     "data": {
      "text/plain": [
       "-3"
      ]
     },
     "execution_count": 31,
     "metadata": {},
     "output_type": "execute_result"
    }
   ],
   "source": [
    "4 - 7"
   ]
  },
  {
   "cell_type": "code",
   "execution_count": 32,
   "id": "e5672c17-892d-4270-ab6d-a5f6cc0300be",
   "metadata": {},
   "outputs": [
    {
     "data": {
      "text/plain": [
       "2.0"
      ]
     },
     "execution_count": 32,
     "metadata": {},
     "output_type": "execute_result"
    }
   ],
   "source": [
    "4 - 2.0"
   ]
  },
  {
   "cell_type": "markdown",
   "id": "24cab220-4487-478b-a854-3aa562dcb5b0",
   "metadata": {},
   "source": [
    "### Operador Multiplicación\n",
    "El operador `*` multiplica los valores de tipo de datos numéricos."
   ]
  },
  {
   "cell_type": "code",
   "execution_count": 33,
   "id": "62785abd-c99c-46ca-ab58-286ee25e6df6",
   "metadata": {},
   "outputs": [
    {
     "data": {
      "text/plain": [
       "12"
      ]
     },
     "execution_count": 33,
     "metadata": {},
     "output_type": "execute_result"
    }
   ],
   "source": [
    "2 * 6"
   ]
  },
  {
   "cell_type": "code",
   "execution_count": 34,
   "id": "c37e54fe-24bf-49e0-a0c7-23b1d186a8b1",
   "metadata": {},
   "outputs": [
    {
     "data": {
      "text/plain": [
       "10.0"
      ]
     },
     "execution_count": 34,
     "metadata": {},
     "output_type": "execute_result"
    }
   ],
   "source": [
    "2 * 5.0"
   ]
  },
  {
   "cell_type": "markdown",
   "id": "939ab76b-a53c-4b3b-97c9-fe8593db9876",
   "metadata": {},
   "source": [
    "### Operador Exponente\n",
    "El operador `**` calcula el exponente entre valores de tipo de datos numéricos."
   ]
  },
  {
   "cell_type": "code",
   "execution_count": 35,
   "id": "985ec13b-23cc-45ac-b977-408af6ab5beb",
   "metadata": {},
   "outputs": [
    {
     "data": {
      "text/plain": [
       "64"
      ]
     },
     "execution_count": 35,
     "metadata": {},
     "output_type": "execute_result"
    }
   ],
   "source": [
    "2 ** 6"
   ]
  },
  {
   "cell_type": "code",
   "execution_count": 37,
   "id": "938a063f-af5b-4c9b-ba10-8e488a0f42bd",
   "metadata": {},
   "outputs": [
    {
     "data": {
      "text/plain": [
       "8.0"
      ]
     },
     "execution_count": 37,
     "metadata": {},
     "output_type": "execute_result"
    }
   ],
   "source": [
    "2 ** 3.0"
   ]
  },
  {
   "cell_type": "markdown",
   "id": "5b1fc454-3b75-486a-99c0-029890e7ab9f",
   "metadata": {},
   "source": [
    "Para calcular la potencia $n$-ésima de un número, también podemos usar la función `pow()`"
   ]
  },
  {
   "cell_type": "code",
   "execution_count": 38,
   "id": "ec6c4224-aae6-4dfc-854e-1bb8dce552b7",
   "metadata": {},
   "outputs": [
    {
     "data": {
      "text/plain": [
       "64"
      ]
     },
     "execution_count": 38,
     "metadata": {},
     "output_type": "execute_result"
    }
   ],
   "source": [
    "pow(2, 6)"
   ]
  },
  {
   "cell_type": "code",
   "execution_count": 39,
   "id": "3c02303d-526e-40c4-be46-1d3d7080519e",
   "metadata": {},
   "outputs": [
    {
     "data": {
      "text/plain": [
       "8.0"
      ]
     },
     "execution_count": 39,
     "metadata": {},
     "output_type": "execute_result"
    }
   ],
   "source": [
    "pow(2, 3.0)"
   ]
  },
  {
   "cell_type": "markdown",
   "id": "b1a24d68-dc48-46ef-9366-33c20fc9ef74",
   "metadata": {},
   "source": [
    "### Operador división\n",
    "El operador `/` es el resultado que se devuelve es un número real"
   ]
  },
  {
   "cell_type": "code",
   "execution_count": 42,
   "id": "6d15f42e-b176-484c-a05e-c53e65774640",
   "metadata": {},
   "outputs": [
    {
     "data": {
      "text/plain": [
       "2.25"
      ]
     },
     "execution_count": 42,
     "metadata": {},
     "output_type": "execute_result"
    }
   ],
   "source": [
    "4.5 / 2"
   ]
  },
  {
   "cell_type": "code",
   "execution_count": 43,
   "id": "044bf3f1-99b4-4894-b6d3-cd70bb951d1d",
   "metadata": {},
   "outputs": [
    {
     "data": {
      "text/plain": [
       "2.0"
      ]
     },
     "execution_count": 43,
     "metadata": {},
     "output_type": "execute_result"
    }
   ],
   "source": [
    "4 / 2"
   ]
  },
  {
   "cell_type": "markdown",
   "id": "373d3e70-67e7-4ad5-8a1e-c2e64c0a954f",
   "metadata": {},
   "source": [
    "### Operador división entera\n",
    "El operador división entera el resultado que se devuelve es solo la parte entera."
   ]
  },
  {
   "cell_type": "code",
   "execution_count": 6,
   "id": "584b78bd-af4e-4d2e-90ad-d11787e192f4",
   "metadata": {},
   "outputs": [
    {
     "data": {
      "text/plain": [
       "3.0"
      ]
     },
     "execution_count": 6,
     "metadata": {},
     "output_type": "execute_result"
    }
   ],
   "source": [
    "7.0 // 2"
   ]
  },
  {
   "cell_type": "markdown",
   "id": "1ca95a7d-e706-4e11-a945-a2633009e06b",
   "metadata": {},
   "source": [
    "### Operador Módulo\n",
    "El operador módulo no hace otra cosa que devolver el resto de la división entre los dos operandos. En el ejemplo, 7 / 2 sería 3, con 1 de resto, luego el módulo es 1."
   ]
  },
  {
   "cell_type": "code",
   "execution_count": 45,
   "id": "f7879bb0-392a-46e5-9110-61403fe83e65",
   "metadata": {},
   "outputs": [
    {
     "data": {
      "text/plain": [
       "1"
      ]
     },
     "execution_count": 45,
     "metadata": {},
     "output_type": "execute_result"
    }
   ],
   "source": [
    "7 % 2"
   ]
  },
  {
   "cell_type": "markdown",
   "id": "ca08873f-a074-429f-96e4-c4eb04bec11b",
   "metadata": {},
   "source": [
    "## Orden de las operaciones aritméticas\n",
    "\n",
    "El orden en que se llevan a cabo las operaciones aritméticas en `Python` es el siguiente:\n",
    "\n",
    "- Primero se calcula lo que se halla entre paréntesis.\n",
    "- A continuación, las potencias.\n",
    "- Después, productos y divisiones. En caso de haber varias, el orden que se sigue es de izquierda a derecha.\n",
    "- Finalmente, sumas y restas. En caso de haber varias, el orden que se sigue es de izquierda a derecha."
   ]
  },
  {
   "cell_type": "code",
   "execution_count": 7,
   "id": "d5dc0149-b50e-4ddc-82ed-c3e6ea663bcd",
   "metadata": {},
   "outputs": [
    {
     "data": {
      "text/plain": [
       "2.0"
      ]
     },
     "execution_count": 7,
     "metadata": {},
     "output_type": "execute_result"
    }
   ],
   "source": [
    "6 + 2 * 8 / 4 - 2 ** 3"
   ]
  },
  {
   "cell_type": "code",
   "execution_count": 8,
   "id": "6f607588-abcf-4a79-bcc4-250ce3f221a0",
   "metadata": {},
   "outputs": [
    {
     "data": {
      "text/plain": [
       "512.0"
      ]
     },
     "execution_count": 8,
     "metadata": {},
     "output_type": "execute_result"
    }
   ],
   "source": [
    "(6 + 2) * (8 / (4 - 2)) ** 3"
   ]
  },
  {
   "cell_type": "code",
   "execution_count": 9,
   "id": "fc6e16d0-ffdb-426d-b135-4420235ccb66",
   "metadata": {},
   "outputs": [
    {
     "data": {
      "text/plain": [
       "0"
      ]
     },
     "execution_count": 9,
     "metadata": {},
     "output_type": "execute_result"
    }
   ],
   "source": [
    "6%3"
   ]
  },
  {
   "cell_type": "code",
   "execution_count": null,
   "id": "6d78c7e8-3049-417e-b68e-64b22ae0c830",
   "metadata": {},
   "outputs": [],
   "source": []
  }
 ],
 "metadata": {
  "kernelspec": {
   "display_name": "Python 3 (ipykernel)",
   "language": "python",
   "name": "python3"
  },
  "language_info": {
   "codemirror_mode": {
    "name": "ipython",
    "version": 3
   },
   "file_extension": ".py",
   "mimetype": "text/x-python",
   "name": "python",
   "nbconvert_exporter": "python",
   "pygments_lexer": "ipython3",
   "version": "3.9.11"
  }
 },
 "nbformat": 4,
 "nbformat_minor": 5
}
