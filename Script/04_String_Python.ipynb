{
 "cells": [
  {
   "cell_type": "markdown",
   "id": "b0f5a86c-ec97-41d5-9658-51b5b74d4ace",
   "metadata": {},
   "source": [
    "# Strings en `Python`"
   ]
  },
  {
   "cell_type": "markdown",
   "id": "9b302242-a76a-4165-b2b1-01ef07988633",
   "metadata": {},
   "source": [
    "## Variable string\n",
    "\n",
    "**String.** Cadena ordenada de caracteres.\n",
    "\n",
    "Una variable de tipo string es aquella que guarda un string. Cuando queremos que una variable se trate de una variable de tipo string, `str` en `Python`, a la hora de declararla, el contenido de la variable debe ir o bien entre comillas dobles `\" \"`, o bien entre comillas simples `' ' `."
   ]
  },
  {
   "cell_type": "code",
   "execution_count": 1,
   "id": "5884fbec-d3fa-4f40-a81a-451c915e1162",
   "metadata": {},
   "outputs": [
    {
     "data": {
      "text/plain": [
       "str"
      ]
     },
     "execution_count": 1,
     "metadata": {},
     "output_type": "execute_result"
    }
   ],
   "source": [
    "a1 = \"Geomatica Ambiental comilla doble\"\n",
    "type(a1)"
   ]
  },
  {
   "cell_type": "code",
   "execution_count": 2,
   "id": "75e26fcc-87b3-4e35-bcd8-96110cedf0de",
   "metadata": {},
   "outputs": [
    {
     "data": {
      "text/plain": [
       "str"
      ]
     },
     "execution_count": 2,
     "metadata": {},
     "output_type": "execute_result"
    }
   ],
   "source": [
    "a2 = 'Geomatica Ambiental comillas simples'\n",
    "type(a2)"
   ]
  },
  {
   "cell_type": "markdown",
   "id": "02deab0f-ffab-4438-bbfb-da389e9fd009",
   "metadata": {},
   "source": [
    "**¡Cuidado!** `Python` no trabaja bien con los acentos. Por tanto, aunque no esté del todo bien escrito, mejor evitarlos, pues nos ahorraremos muchos problemas."
   ]
  },
  {
   "cell_type": "markdown",
   "id": "2557e643-8903-418d-9f41-b7b6cdea301c",
   "metadata": {},
   "source": [
    "## Concatenación de strings\n",
    "\n",
    "La concatenación es una operación que une dos o más strings en uno solo.\n",
    "\n",
    "En `Python`, para concatenar dos variables de tipo string usamos la función `+`."
   ]
  },
  {
   "cell_type": "code",
   "execution_count": 3,
   "id": "1a2d2e15-b137-4a54-bed5-17ac641cd79b",
   "metadata": {},
   "outputs": [
    {
     "name": "stdout",
     "output_type": "stream",
     "text": [
      "INIA AGPRES\n",
      "INIA\n"
     ]
    }
   ],
   "source": [
    "s1 = \"INIA\"\n",
    "s2 = \"AGPRES\"\n",
    "print(s1+\" \"+s2)\n",
    "print(s1)"
   ]
  },
  {
   "cell_type": "markdown",
   "id": "f9aa3f08-6d79-4a4e-aa66-5b93e731838e",
   "metadata": {},
   "source": [
    "## Repetición de strings\n",
    "\n",
    "La repetición es una operación que repite la variable string tantas veces como indiquemos.\n",
    "\n",
    "En `Python`, para repetir una variable de tipo string usamos la función `*`. El orden de los factores no altera el producto. Es decir, tanto da usar la sintaxis `num_repeticiones * variable_str` como `variable_str * num__repeticiones`."
   ]
  },
  {
   "cell_type": "code",
   "execution_count": 5,
   "id": "d42d8aba-621b-4268-8edd-d62a3ac4ea00",
   "metadata": {},
   "outputs": [
    {
     "data": {
      "text/plain": [
       "'INIA INIA INIA '"
      ]
     },
     "execution_count": 5,
     "metadata": {},
     "output_type": "execute_result"
    }
   ],
   "source": [
    "s1 = \"INIA \"\n",
    "s1 * 3"
   ]
  },
  {
   "cell_type": "markdown",
   "id": "f7bc1960-ac28-4a5c-940d-40e51ae305d3",
   "metadata": {},
   "source": [
    "## La función `print()`\n",
    "\n",
    "Hasta ahora, cada vez que mostrábamos strings por pantalla, estos salían entre comillas simples.\n",
    "\n",
    "La función `print()` nos sirve, entre otras muchas cosas, para mostrar strings por pantalla."
   ]
  },
  {
   "cell_type": "code",
   "execution_count": 6,
   "id": "f3c5b271-bae6-41a5-9ad5-be08685358c0",
   "metadata": {},
   "outputs": [
    {
     "data": {
      "text/plain": [
       "'Hola AGPRES'"
      ]
     },
     "execution_count": 6,
     "metadata": {},
     "output_type": "execute_result"
    }
   ],
   "source": [
    "s = \"Hola AGPRES\"\n",
    "s"
   ]
  },
  {
   "cell_type": "code",
   "execution_count": 4,
   "id": "21df5fd9-2858-4c61-bbea-dd8049cb6047",
   "metadata": {},
   "outputs": [
    {
     "name": "stdout",
     "output_type": "stream",
     "text": [
      "Hola AGPRES\n"
     ]
    }
   ],
   "source": [
    "print(s)"
   ]
  },
  {
   "cell_type": "code",
   "execution_count": 7,
   "id": "20d9263f-fee9-4ae5-a340-50773ca15acf",
   "metadata": {},
   "outputs": [
    {
     "name": "stdout",
     "output_type": "stream",
     "text": [
      "¡Bienvenido, Nino Bravo!\n"
     ]
    }
   ],
   "source": [
    "name = \"Nino Bravo\"\n",
    "print(\"¡Bienvenido, \" + name + \"!\")"
   ]
  },
  {
   "cell_type": "markdown",
   "id": "cbab3d95-c6d1-4353-8bdc-725b4c600eee",
   "metadata": {},
   "source": [
    "## La función `str()`\n",
    "\n",
    "Con la función `str()`, podemos concatenar strings y variables de cualquier tipo dentro de un `print()`:"
   ]
  },
  {
   "cell_type": "code",
   "execution_count": 10,
   "id": "6094a94f-516f-4f86-bfa6-9d8b38a2d9e2",
   "metadata": {},
   "outputs": [
    {
     "name": "stdout",
     "output_type": "stream",
     "text": [
      "La ciudad Tingo Maria presenta una temperatura 32 Grado celsius\n"
     ]
    }
   ],
   "source": [
    "nombre = \"Tingo Maria\"\n",
    "temp = 32\n",
    "print(\"La ciudad \" + nombre + \" presenta una temperatura \" + str(temp) + \" Grado celsius\")"
   ]
  },
  {
   "cell_type": "code",
   "execution_count": 17,
   "id": "8967653a-df49-45e2-a104-8bdddb3308b6",
   "metadata": {},
   "outputs": [
    {
     "name": "stdout",
     "output_type": "stream",
     "text": [
      "Tingo Maria 32\n"
     ]
    }
   ],
   "source": [
    "print(nombre + \" \" + str(temp))"
   ]
  },
  {
   "cell_type": "code",
   "execution_count": 19,
   "id": "6da2207d-9f7f-4c60-b3d6-38ace853ed60",
   "metadata": {},
   "outputs": [
    {
     "name": "stdout",
     "output_type": "stream",
     "text": [
      "Tingo Maria 32\n"
     ]
    }
   ],
   "source": [
    "print(nombre, temp)"
   ]
  },
  {
   "cell_type": "markdown",
   "id": "d5e76035-724d-4ce8-9e3e-847a5204823e",
   "metadata": {},
   "source": [
    "## Substrings\n",
    "\n",
    "Para acceder a un caracter de una variable string usamos la sintaxis de `[]`"
   ]
  },
  {
   "cell_type": "code",
   "execution_count": 21,
   "id": "3a6645c8-ef9b-42c8-92d1-ecd38dc8d45a",
   "metadata": {},
   "outputs": [],
   "source": [
    "a = \"Soy especialista en Teledeteccion con Python\""
   ]
  },
  {
   "cell_type": "code",
   "execution_count": 22,
   "id": "ea836680-c5cd-4073-8dc4-9d8a1320c376",
   "metadata": {},
   "outputs": [
    {
     "data": {
      "text/plain": [
       "'S'"
      ]
     },
     "execution_count": 22,
     "metadata": {},
     "output_type": "execute_result"
    }
   ],
   "source": [
    "a[0] # Primer caracter"
   ]
  },
  {
   "cell_type": "code",
   "execution_count": 23,
   "id": "f4c549d2-c2d5-400e-91bc-3e4607377d11",
   "metadata": {},
   "outputs": [
    {
     "data": {
      "text/plain": [
       "'y'"
      ]
     },
     "execution_count": 23,
     "metadata": {},
     "output_type": "execute_result"
    }
   ],
   "source": [
    "a[2] # tercer caracter"
   ]
  },
  {
   "cell_type": "code",
   "execution_count": 24,
   "id": "cf5a58ce-c874-4181-b2ea-711b8f477ebf",
   "metadata": {},
   "outputs": [
    {
     "data": {
      "text/plain": [
       "'n'"
      ]
     },
     "execution_count": 24,
     "metadata": {},
     "output_type": "execute_result"
    }
   ],
   "source": [
    "a[-1] # Último elemento"
   ]
  },
  {
   "cell_type": "code",
   "execution_count": 25,
   "id": "49055a4f-5ec4-4739-baf4-601bdd914b38",
   "metadata": {},
   "outputs": [
    {
     "data": {
      "text/plain": [
       "'P'"
      ]
     },
     "execution_count": 25,
     "metadata": {},
     "output_type": "execute_result"
    }
   ],
   "source": [
    "a[-6] # Sexto elemento empezando por el final"
   ]
  },
  {
   "cell_type": "markdown",
   "id": "7f1a6f52-b5ab-461b-8294-dd198010b083",
   "metadata": {},
   "source": [
    "Si queremos acceder a varios caracteres seguidos, podemos utilizar la función `:`"
   ]
  },
  {
   "cell_type": "code",
   "execution_count": 26,
   "id": "3d810348-094f-412d-a6a0-51cc3ffdc390",
   "metadata": {},
   "outputs": [
    {
     "data": {
      "text/plain": [
       "'Teledeteccion'"
      ]
     },
     "execution_count": 26,
     "metadata": {},
     "output_type": "execute_result"
    }
   ],
   "source": [
    "a[20:33] # Del 20 al 33"
   ]
  },
  {
   "cell_type": "code",
   "execution_count": 35,
   "id": "ee70c122-7770-4c4c-88ed-b0bc0fa11002",
   "metadata": {},
   "outputs": [
    {
     "name": "stdout",
     "output_type": "stream",
     "text": [
      "Soy especialista\n"
     ]
    }
   ],
   "source": [
    "c = a[:16] # Del primero al 16\n",
    "print(c)"
   ]
  },
  {
   "cell_type": "code",
   "execution_count": 32,
   "id": "7026d1ea-8d6d-48f0-b96f-a5a36592d90e",
   "metadata": {},
   "outputs": [
    {
     "data": {
      "text/plain": [
       "'Teledeteccion con Python'"
      ]
     },
     "execution_count": 32,
     "metadata": {},
     "output_type": "execute_result"
    }
   ],
   "source": [
    "a[20:] # Del 20 al final"
   ]
  },
  {
   "cell_type": "markdown",
   "id": "eb1cd3c2-2f12-455d-8966-5a0d60f54652",
   "metadata": {},
   "source": [
    "## Métodos para trabajar con strings"
   ]
  },
  {
   "cell_type": "markdown",
   "id": "c6fc30f8-addb-47b2-8aa0-e6210d82b5f6",
   "metadata": {},
   "source": [
    "### Método Lower\n",
    "El método `.lower()` nos transforma el string que indiquemos a minúsculas."
   ]
  },
  {
   "cell_type": "code",
   "execution_count": 11,
   "id": "fe59b1bb-887c-4bec-a6d8-486885bc922e",
   "metadata": {},
   "outputs": [
    {
     "data": {
      "text/plain": [
       "'me gusta teledeteccion con python'"
      ]
     },
     "execution_count": 11,
     "metadata": {},
     "output_type": "execute_result"
    }
   ],
   "source": [
    "s = \"Me Gusta Teledeteccion con PYTHON\"\n",
    "s.lower()"
   ]
  },
  {
   "cell_type": "markdown",
   "id": "78a0cb96-b3c7-4857-bcc8-11dc763c2c80",
   "metadata": {},
   "source": [
    "### Método upper\n",
    "El método `.upper()`, por el contrario, lo transforma a mayúsculas."
   ]
  },
  {
   "cell_type": "code",
   "execution_count": 37,
   "id": "dc45c14e-c39b-4daa-8026-cee1c5d58dcf",
   "metadata": {},
   "outputs": [
    {
     "data": {
      "text/plain": [
       "'ME GUSTA TELEDETECCION CON PYTHON'"
      ]
     },
     "execution_count": 37,
     "metadata": {},
     "output_type": "execute_result"
    }
   ],
   "source": [
    "s.upper()"
   ]
  },
  {
   "cell_type": "markdown",
   "id": "efe88bec-fc76-4a8e-a153-436b25496fbb",
   "metadata": {},
   "source": [
    "### Método count\n",
    "El método `.count()` cuenta cuántas veces aparece una letra o un string dentro del string al cuál le aplicamos dicho método."
   ]
  },
  {
   "cell_type": "code",
   "execution_count": 12,
   "id": "2ddb9a25-0276-40c4-80c0-55327359e23e",
   "metadata": {},
   "outputs": [
    {
     "data": {
      "text/plain": [
       "0"
      ]
     },
     "execution_count": 12,
     "metadata": {},
     "output_type": "execute_result"
    }
   ],
   "source": [
    "s.count(\"m\")"
   ]
  },
  {
   "cell_type": "markdown",
   "id": "e7169643-3a00-43dd-beac-27ae99b5288f",
   "metadata": {},
   "source": [
    "### Método capitalize\n",
    "El método `.capitalize()` convierte a mayúscula el primer caracter de un string."
   ]
  },
  {
   "cell_type": "code",
   "execution_count": 41,
   "id": "834bd409-10a0-4457-9105-b2d6826f7261",
   "metadata": {},
   "outputs": [
    {
     "data": {
      "text/plain": [
       "'Me gusta teledeteccion con python'"
      ]
     },
     "execution_count": 41,
     "metadata": {},
     "output_type": "execute_result"
    }
   ],
   "source": [
    "s.capitalize()"
   ]
  },
  {
   "cell_type": "markdown",
   "id": "f262b827-c8cc-4a55-be38-1f71ead57e92",
   "metadata": {},
   "source": [
    "### Método title\n",
    "El método `.title()` convierte a mayúscula el primer caracter de cada palabra de un string."
   ]
  },
  {
   "cell_type": "code",
   "execution_count": 42,
   "id": "f34fa7f6-f909-4c6c-a5ca-7ba8c0d26bd9",
   "metadata": {},
   "outputs": [
    {
     "data": {
      "text/plain": [
       "'Me Gusta Teledeteccion Con Python'"
      ]
     },
     "execution_count": 42,
     "metadata": {},
     "output_type": "execute_result"
    }
   ],
   "source": [
    "s.title()"
   ]
  },
  {
   "cell_type": "markdown",
   "id": "0e574bd3-fea5-44c0-8e0c-05b258c7b748",
   "metadata": {},
   "source": [
    "### Método replace\n",
    "El método `.replace()` reemplaza el caracter (o caracteres) que le indiquemos por el string que queramos."
   ]
  },
  {
   "cell_type": "code",
   "execution_count": 43,
   "id": "daf2ed53-6f55-47aa-ae2f-4f66d54761ae",
   "metadata": {},
   "outputs": [
    {
     "data": {
      "text/plain": [
       "'Me Gusta SIG con PYTHON'"
      ]
     },
     "execution_count": 43,
     "metadata": {},
     "output_type": "execute_result"
    }
   ],
   "source": [
    "s.replace(\"Teledeteccion\", \"SIG\")"
   ]
  },
  {
   "cell_type": "markdown",
   "id": "9bc062df-0e2e-41cb-9996-674e22ac4a4c",
   "metadata": {},
   "source": [
    "### Método split\n",
    "El método `.split()` rompe el string en el caracter que le indiquemos y elimina dicho caracter."
   ]
  },
  {
   "cell_type": "code",
   "execution_count": 48,
   "id": "ab5d7c97-4e55-4696-8e7d-44810786e76e",
   "metadata": {},
   "outputs": [
    {
     "data": {
      "text/plain": [
       "['Me', 'Gusta', 'Teledeteccion', 'con', 'PYTHON']"
      ]
     },
     "execution_count": 48,
     "metadata": {},
     "output_type": "execute_result"
    }
   ],
   "source": [
    "d = s.split(\" \")\n",
    "d"
   ]
  },
  {
   "cell_type": "code",
   "execution_count": 47,
   "id": "5ce3bc6c-a1ee-453f-b20b-339ebc5e76dd",
   "metadata": {},
   "outputs": [
    {
     "data": {
      "text/plain": [
       "list"
      ]
     },
     "execution_count": 47,
     "metadata": {},
     "output_type": "execute_result"
    }
   ],
   "source": [
    "type(d)"
   ]
  },
  {
   "cell_type": "markdown",
   "id": "984920a3-b81c-442d-aa26-a9868c8f37eb",
   "metadata": {},
   "source": [
    "### Método strip\n",
    "El método `.strip()` elimina los espacios sobrantes a principio y final del string."
   ]
  },
  {
   "cell_type": "code",
   "execution_count": 49,
   "id": "47c41612-abae-4e4c-90d3-c7cd3aadbe4b",
   "metadata": {},
   "outputs": [
    {
     "data": {
      "text/plain": [
       "'El color del oceano es azul'"
      ]
     },
     "execution_count": 49,
     "metadata": {},
     "output_type": "execute_result"
    }
   ],
   "source": [
    "b = \"       El color del oceano es azul        \"\n",
    "b.strip()"
   ]
  },
  {
   "cell_type": "markdown",
   "id": "23639b1d-5821-4efd-a4da-d1aeabc9f1dc",
   "metadata": {},
   "source": [
    "### Método lstrip\n",
    "El método .lstrip() elimina los espacios sobrantes al principio del string."
   ]
  },
  {
   "cell_type": "code",
   "execution_count": 50,
   "id": "0359a473-ee1e-492c-927a-b186bbcb6831",
   "metadata": {},
   "outputs": [
    {
     "data": {
      "text/plain": [
       "'El color del oceano es azul        '"
      ]
     },
     "execution_count": 50,
     "metadata": {},
     "output_type": "execute_result"
    }
   ],
   "source": [
    "b.lstrip()"
   ]
  },
  {
   "cell_type": "markdown",
   "id": "407a1404-51b4-4b40-9a53-4fc1bf4f4df7",
   "metadata": {},
   "source": [
    "### Método rstrip\n",
    "El método `.rstrip()` elimina los espacios sobrantes al final del string."
   ]
  },
  {
   "cell_type": "code",
   "execution_count": 51,
   "id": "0d48b6a6-81d1-40fe-a722-52824d10f81c",
   "metadata": {},
   "outputs": [
    {
     "data": {
      "text/plain": [
       "'       El color del oceano es azul'"
      ]
     },
     "execution_count": 51,
     "metadata": {},
     "output_type": "execute_result"
    }
   ],
   "source": [
    "b.rstrip()"
   ]
  },
  {
   "cell_type": "markdown",
   "id": "b3c88159-d4cb-4ae6-af79-359cca52a8ae",
   "metadata": {},
   "source": [
    "### Método Len\n",
    "La función `len()` nos devuelve el número de caracteres del string."
   ]
  },
  {
   "cell_type": "code",
   "execution_count": 6,
   "id": "03436dc4-6275-4c7b-885a-ec0d4a2a81ad",
   "metadata": {},
   "outputs": [
    {
     "data": {
      "text/plain": [
       "4"
      ]
     },
     "execution_count": 6,
     "metadata": {},
     "output_type": "execute_result"
    }
   ],
   "source": [
    "s = \"INIA\"\n",
    "len(s)"
   ]
  },
  {
   "cell_type": "code",
   "execution_count": 7,
   "id": "aff2cea0-b062-4e9e-9676-0ebdad02d67f",
   "metadata": {},
   "outputs": [
    {
     "data": {
      "text/plain": [
       "'I'"
      ]
     },
     "execution_count": 7,
     "metadata": {},
     "output_type": "execute_result"
    }
   ],
   "source": [
    "s[0]"
   ]
  },
  {
   "cell_type": "markdown",
   "id": "2d20bd2f-372d-4dd7-9971-27f3b80501eb",
   "metadata": {},
   "source": [
    "## Conversión de numero a string visiversa"
   ]
  },
  {
   "cell_type": "markdown",
   "id": "7ebf1665-e34e-48c1-b74f-7f27bab72603",
   "metadata": {},
   "source": [
    "Si tenemos un número en formato string, por mucho que sea un número para nosotros, en realidad `Python` no lo ve así. El gran problema es cuando queremos operar con un número que se encuentra en formato string. Ahí es donde entran en juego las funciones `int()` y `float()`, que lo que hacen es convertir a formato integer o float, respectivamente."
   ]
  },
  {
   "cell_type": "code",
   "execution_count": 58,
   "id": "59bfab24-ca6c-4148-8e92-73d7985be605",
   "metadata": {},
   "outputs": [
    {
     "data": {
      "text/plain": [
       "str"
      ]
     },
     "execution_count": 58,
     "metadata": {},
     "output_type": "execute_result"
    }
   ],
   "source": [
    "a = \"26\"\n",
    "type(a)"
   ]
  },
  {
   "cell_type": "code",
   "execution_count": 60,
   "id": "69383420-ec1d-4bd8-9377-b56ad7d15e29",
   "metadata": {},
   "outputs": [
    {
     "name": "stdout",
     "output_type": "stream",
     "text": [
      "<class 'int'>\n",
      "26\n"
     ]
    }
   ],
   "source": [
    "a1 = int(a)\n",
    "print(type(a1))\n",
    "print(a1)"
   ]
  },
  {
   "cell_type": "code",
   "execution_count": 61,
   "id": "5c252128-8342-4aa7-bd1f-dd1af0ea1e91",
   "metadata": {},
   "outputs": [
    {
     "name": "stdout",
     "output_type": "stream",
     "text": [
      "<class 'float'>\n",
      "26.0\n"
     ]
    }
   ],
   "source": [
    "a2 = float(a)\n",
    "print(type(a2))\n",
    "print(a2)"
   ]
  },
  {
   "cell_type": "code",
   "execution_count": 64,
   "id": "66468f89-2ab7-4e71-98e5-cf33981b2905",
   "metadata": {},
   "outputs": [
    {
     "name": "stdout",
     "output_type": "stream",
     "text": [
      "<class 'str'>\n"
     ]
    },
    {
     "data": {
      "text/plain": [
       "'26.0'"
      ]
     },
     "execution_count": 64,
     "metadata": {},
     "output_type": "execute_result"
    }
   ],
   "source": [
    "a3 = str(a2)\n",
    "print(type(a3))\n",
    "a3"
   ]
  },
  {
   "cell_type": "markdown",
   "id": "1ff4fe60-1365-4b55-a06e-c9a85e650684",
   "metadata": {},
   "source": [
    "## Función input\n",
    "La función `input()` sirve para que el usuario introduzca un string por consola:"
   ]
  },
  {
   "cell_type": "code",
   "execution_count": 13,
   "id": "74d7c30d-e2bd-499c-81a3-6a040973243d",
   "metadata": {},
   "outputs": [
    {
     "name": "stdout",
     "output_type": "stream",
     "text": [
      "Introduce tu nombre: \n"
     ]
    },
    {
     "name": "stdin",
     "output_type": "stream",
     "text": [
      "Nombre:  gilbert\n"
     ]
    }
   ],
   "source": [
    "print(\"Introduce tu nombre: \")\n",
    "name = input(\"Nombre: \")"
   ]
  },
  {
   "cell_type": "code",
   "execution_count": 14,
   "id": "1baab0a4-9ab2-4a23-8e27-2e6edd9fc753",
   "metadata": {},
   "outputs": [
    {
     "name": "stdout",
     "output_type": "stream",
     "text": [
      "Introduce tu temperatura: \n"
     ]
    },
    {
     "name": "stdin",
     "output_type": "stream",
     "text": [
      "Temperatura:  27\n"
     ]
    }
   ],
   "source": [
    "print(\"Introduce tu temperatura: \")\n",
    "age = float(input(\"Temperatura: \"))"
   ]
  },
  {
   "cell_type": "code",
   "execution_count": null,
   "id": "3491d90c-7893-446e-bc94-8173f27a8661",
   "metadata": {},
   "outputs": [],
   "source": []
  }
 ],
 "metadata": {
  "kernelspec": {
   "display_name": "Python 3 (ipykernel)",
   "language": "python",
   "name": "python3"
  },
  "language_info": {
   "codemirror_mode": {
    "name": "ipython",
    "version": 3
   },
   "file_extension": ".py",
   "mimetype": "text/x-python",
   "name": "python",
   "nbconvert_exporter": "python",
   "pygments_lexer": "ipython3",
   "version": "3.9.11"
  }
 },
 "nbformat": 4,
 "nbformat_minor": 5
}
