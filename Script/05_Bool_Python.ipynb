{
 "cells": [
  {
   "cell_type": "markdown",
   "id": "02951bc2-1812-4623-9299-c660511e1ca0",
   "metadata": {},
   "source": [
    "# Bool en `Python`"
   ]
  },
  {
   "cell_type": "markdown",
   "id": "4cb3e28a-8453-4c16-9886-f7259c4ffa77",
   "metadata": {},
   "source": [
    "El tipo booleano sólo puede tener dos valores: `True` (verdadero) y `False` (falso). Estos valores son especialmente importantes para las expresiones condicionales y los bucles, como verá más adelante."
   ]
  },
  {
   "cell_type": "code",
   "execution_count": 2,
   "id": "16cccee5-1de8-4e8b-8627-85111812d4de",
   "metadata": {},
   "outputs": [
    {
     "data": {
      "text/plain": [
       "bool"
      ]
     },
     "execution_count": 2,
     "metadata": {},
     "output_type": "execute_result"
    }
   ],
   "source": [
    "a = False\n",
    "type(a)"
   ]
  },
  {
   "cell_type": "code",
   "execution_count": 1,
   "id": "b1c26c24",
   "metadata": {},
   "outputs": [],
   "source": [
    "a=5\n",
    "b=7"
   ]
  },
  {
   "cell_type": "markdown",
   "id": "e6ae6751-1bd8-4ec3-9732-61f650186131",
   "metadata": {},
   "source": [
    "Los tipos integrados False y True son solamente dos instancias de la clase bool. En realidad el tipo bool es una subclase del tipo int o entero plano, es decir, sus valores son 0 y 1 respectivamente, en casi todos los contextos:"
   ]
  },
  {
   "cell_type": "code",
   "execution_count": 2,
   "id": "f41e0767",
   "metadata": {},
   "outputs": [
    {
     "name": "stdout",
     "output_type": "stream",
     "text": [
      "12\n"
     ]
    }
   ],
   "source": [
    "print(a+b)"
   ]
  },
  {
   "cell_type": "code",
   "execution_count": 5,
   "id": "0498e1dd-3384-4033-9317-02664d93ad1c",
   "metadata": {},
   "outputs": [
    {
     "data": {
      "text/plain": [
       "0"
      ]
     },
     "execution_count": 5,
     "metadata": {},
     "output_type": "execute_result"
    }
   ],
   "source": [
    "int(False)"
   ]
  },
  {
   "cell_type": "code",
   "execution_count": 6,
   "id": "60134627-9abe-4754-9d8e-066d8fb97b2c",
   "metadata": {},
   "outputs": [
    {
     "data": {
      "text/plain": [
       "1"
      ]
     },
     "execution_count": 6,
     "metadata": {},
     "output_type": "execute_result"
    }
   ],
   "source": [
    "int(True)"
   ]
  },
  {
   "cell_type": "markdown",
   "id": "0809c0df-e6bb-4327-a87a-e8f99cc0c5ee",
   "metadata": {},
   "source": [
    "### Negación\n",
    "\n",
    "El operador negación aplicado a una variable se representa con $\\neg$ y devuelve el valor contrario.\n",
    "\n",
    "| $A$ | $Not A$ |\n",
    "| :---: | :---: |\n",
    "| $V$ | $F$ |\n",
    "| $F$ | $V$ |\n"
   ]
  },
  {
   "cell_type": "markdown",
   "id": "0dfd4bc2-bde6-4644-bfb7-ecd15ef8192a",
   "metadata": {},
   "source": [
    "Para hacer la negación, utilizamos el operador `not`."
   ]
  },
  {
   "cell_type": "code",
   "execution_count": 4,
   "id": "079326fa-181a-4b92-95bd-97e2dc8e2620",
   "metadata": {},
   "outputs": [],
   "source": [
    "A = True\n",
    "b = not A"
   ]
  },
  {
   "cell_type": "code",
   "execution_count": 5,
   "id": "8b75d9c6",
   "metadata": {},
   "outputs": [
    {
     "name": "stdout",
     "output_type": "stream",
     "text": [
      "False\n"
     ]
    }
   ],
   "source": [
    "print (b)"
   ]
  },
  {
   "cell_type": "code",
   "execution_count": 8,
   "id": "69d45ae9-67cc-4105-8046-aff118983541",
   "metadata": {},
   "outputs": [
    {
     "data": {
      "text/plain": [
       "True"
      ]
     },
     "execution_count": 8,
     "metadata": {},
     "output_type": "execute_result"
    }
   ],
   "source": [
    "B = False\n",
    "not B"
   ]
  },
  {
   "cell_type": "markdown",
   "id": "f5d39957-0dee-4451-a17b-c8520900c0b2",
   "metadata": {},
   "source": [
    "### Conjunción AND\n",
    "\n",
    "La conjunción entre dos variables se representa con **and** y devuelve verdadero únicamente cuando ambas variables valen verdadero.\n",
    "\n",
    "| $A$ | $B$ | A  and  B |\n",
    "| :---: | :---: | :---: |\n",
    "| $V$ | $V$ | $V$ |\n",
    "| $V$ | $F$ | $F$ |\n",
    "| $F$ | $V$ | $F$ |\n",
    "| $F$ | $F$ | $F$ |"
   ]
  },
  {
   "cell_type": "markdown",
   "id": "d27c5576-885d-488a-80f1-32f5286966b9",
   "metadata": {},
   "source": [
    "Para hacer la conjunción entre dos variables lógicas, utilizamos el operador `and`."
   ]
  },
  {
   "cell_type": "code",
   "execution_count": 9,
   "id": "13b61e55-d3ce-4abe-8896-1a62911a5faf",
   "metadata": {},
   "outputs": [
    {
     "data": {
      "text/plain": [
       "True"
      ]
     },
     "execution_count": 9,
     "metadata": {},
     "output_type": "execute_result"
    }
   ],
   "source": [
    "A, B = True, True\n",
    "A and B"
   ]
  },
  {
   "cell_type": "code",
   "execution_count": 10,
   "id": "025e067d-6103-47f9-9aca-7783427a3420",
   "metadata": {},
   "outputs": [
    {
     "data": {
      "text/plain": [
       "False"
      ]
     },
     "execution_count": 10,
     "metadata": {},
     "output_type": "execute_result"
    }
   ],
   "source": [
    "A and (not B)"
   ]
  },
  {
   "cell_type": "markdown",
   "id": "a1e10fa7-6ddf-4773-ae29-2020c47753fd",
   "metadata": {},
   "source": [
    "### Disyunción OR\n",
    "\n",
    "La disyunción entre dos variables se representa con **or** y devuelve verdadero cuando almenos una de las variables lógicas vale verdadero.\n",
    "\n",
    "| $A$ | $B$ | A or B |\n",
    "| :---: | :---: | :---: |\n",
    "| $V$ | $V$ | $V$ |\n",
    "| $V$ | $F$ | $V$ |\n",
    "| $F$ | $V$ | $V$ |\n",
    "| $F$ | $F$ | $F$ |"
   ]
  },
  {
   "cell_type": "markdown",
   "id": "de34ea30-25ca-4bd8-9bbb-5cd569c04905",
   "metadata": {},
   "source": [
    "Para hacer la disyunción entre dos variables lógicas, utilizamos el operador `or`."
   ]
  },
  {
   "cell_type": "code",
   "execution_count": 11,
   "id": "8007b11e-e4c4-4f5c-95c2-51532806b15a",
   "metadata": {},
   "outputs": [
    {
     "data": {
      "text/plain": [
       "False"
      ]
     },
     "execution_count": 11,
     "metadata": {},
     "output_type": "execute_result"
    }
   ],
   "source": [
    "A, B = False, False\n",
    "A or B"
   ]
  },
  {
   "cell_type": "code",
   "execution_count": 12,
   "id": "5b844a70-54f2-4e47-a672-0b5b910fb8d5",
   "metadata": {},
   "outputs": [
    {
     "data": {
      "text/plain": [
       "True"
      ]
     },
     "execution_count": 12,
     "metadata": {},
     "output_type": "execute_result"
    }
   ],
   "source": [
    "(not A) or B"
   ]
  },
  {
   "cell_type": "markdown",
   "id": "1e5a0ed5-5e42-4ca1-89b2-9d818dd81ef9",
   "metadata": {},
   "source": [
    "## Operadores de comparación\n",
    "\n",
    "En `Python` podemos comparar datos y obtener un resultado booleano. Los operadores de comparación disponibles son\n",
    "\n",
    "| Operador | Significado |\n",
    "| :---: | :--- |\n",
    "| $>$ | Mayor |\n",
    "| $\\ge$ | Mayor o igual |\n",
    "| $<$ | Menor |\n",
    "| $\\le$ | Menor o igual |\n",
    "| $==$ | Igual |\n",
    "| $!=$ | Diferente |"
   ]
  },
  {
   "cell_type": "code",
   "execution_count": 10,
   "id": "2b6ab0ca-4c14-4768-af4e-35ded5b6924d",
   "metadata": {},
   "outputs": [
    {
     "data": {
      "text/plain": [
       "True"
      ]
     },
     "execution_count": 10,
     "metadata": {},
     "output_type": "execute_result"
    }
   ],
   "source": [
    "7 == 7.0"
   ]
  },
  {
   "cell_type": "code",
   "execution_count": 11,
   "id": "8e493bcc-bafb-4728-ab10-7f528e796ca0",
   "metadata": {},
   "outputs": [
    {
     "data": {
      "text/plain": [
       "False"
      ]
     },
     "execution_count": 11,
     "metadata": {},
     "output_type": "execute_result"
    }
   ],
   "source": [
    "3.14 > 9"
   ]
  },
  {
   "cell_type": "code",
   "execution_count": 13,
   "id": "1a353193-b25b-4d39-bf88-f3746c640045",
   "metadata": {},
   "outputs": [
    {
     "data": {
      "text/plain": [
       "False"
      ]
     },
     "execution_count": 13,
     "metadata": {},
     "output_type": "execute_result"
    }
   ],
   "source": [
    "7 != int(\"7\")"
   ]
  },
  {
   "cell_type": "code",
   "execution_count": 15,
   "id": "4716dd2c-d5ea-4502-9de0-6d35e9738a7d",
   "metadata": {},
   "outputs": [
    {
     "data": {
      "text/plain": [
       "True"
      ]
     },
     "execution_count": 15,
     "metadata": {},
     "output_type": "execute_result"
    }
   ],
   "source": [
    "7 == int(\"7\")"
   ]
  },
  {
   "cell_type": "code",
   "execution_count": 13,
   "id": "c83e9f25-a515-45b0-a1ad-13455f30e9cc",
   "metadata": {},
   "outputs": [
    {
     "data": {
      "text/plain": [
       "True"
      ]
     },
     "execution_count": 13,
     "metadata": {},
     "output_type": "execute_result"
    }
   ],
   "source": [
    "0.01 <= 1"
   ]
  },
  {
   "cell_type": "markdown",
   "id": "3a1c3e63-960a-42a0-9d95-211c3a484d15",
   "metadata": {},
   "source": [
    "### Múltiples comparaciones simultáneas\n",
    "\n",
    "Podemos realizar múltiples comparaciones a la vez.\n",
    "\n",
    "Supongamos que tenemos que tener 16 años o más, pero como mucho 40 para poder concertar una entrevista y aspirar a ser miembros de la tripulación del pirata Pyratilla.\n",
    "\n",
    "Queremos saber si nos concederá una entrevista si tenemos 17 años."
   ]
  },
  {
   "cell_type": "code",
   "execution_count": 18,
   "id": "f2d6a108-0343-4353-b584-059bedf4f3ba",
   "metadata": {},
   "outputs": [
    {
     "data": {
      "text/plain": [
       "True"
      ]
     },
     "execution_count": 18,
     "metadata": {},
     "output_type": "execute_result"
    }
   ],
   "source": [
    "edad = 17\n",
    "(edad >= 16) and (edad <= 10)"
   ]
  },
  {
   "cell_type": "code",
   "execution_count": 20,
   "id": "32c66d9a-8b2f-4bbd-be26-7cf824d56061",
   "metadata": {},
   "outputs": [
    {
     "data": {
      "text/plain": [
       "True"
      ]
     },
     "execution_count": 20,
     "metadata": {},
     "output_type": "execute_result"
    }
   ],
   "source": [
    "Temperatura = 30\n",
    "(Temperatura >= 16) or (Temperatura <= 10)"
   ]
  }
 ],
 "metadata": {
  "kernelspec": {
   "display_name": "Python 3 (ipykernel)",
   "language": "python",
   "name": "python3"
  },
  "language_info": {
   "codemirror_mode": {
    "name": "ipython",
    "version": 3
   },
   "file_extension": ".py",
   "mimetype": "text/x-python",
   "name": "python",
   "nbconvert_exporter": "python",
   "pygments_lexer": "ipython3",
   "version": "3.9.11"
  }
 },
 "nbformat": 4,
 "nbformat_minor": 5
}
