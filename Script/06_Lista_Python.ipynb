{
 "cells": [
  {
   "cell_type": "markdown",
   "id": "136f54b1-30e9-4f01-9676-62454f46abc0",
   "metadata": {},
   "source": [
    "# Estructuras de datos: Listas"
   ]
  },
  {
   "cell_type": "markdown",
   "id": "7b8cb9ed-ba29-4e11-af8d-af591ac107be",
   "metadata": {},
   "source": [
    "La primera estructura de datos que veremos son las **listas**. Éstas son un conjunto de elementos ordenados separados por comas y escritos entre claudators, `[]`. \n",
    "\n",
    "Las listas son:\n",
    "- hetereogéneas: los elementos pueden ser de distinto tipo en una misma lista\n",
    "- mutables: los elementos pueden ser modificados\n",
    "\n",
    "Un ejemplo de lista sería"
   ]
  },
  {
   "cell_type": "code",
   "execution_count": 2,
   "id": "414ed30d-5980-4719-872b-51a347680934",
   "metadata": {},
   "outputs": [
    {
     "name": "stdout",
     "output_type": "stream",
     "text": [
      "['Juan', 31, 172.32, True]\n"
     ]
    }
   ],
   "source": [
    "e = [\"Juan\", 31, 172.32, True]\n",
    "print(e)"
   ]
  },
  {
   "cell_type": "code",
   "execution_count": 3,
   "id": "3d6e817e-a283-4efb-acd3-974033fedaa3",
   "metadata": {},
   "outputs": [
    {
     "data": {
      "text/plain": [
       "list"
      ]
     },
     "execution_count": 3,
     "metadata": {},
     "output_type": "execute_result"
    }
   ],
   "source": [
    "type(e)"
   ]
  },
  {
   "cell_type": "markdown",
   "id": "0c19a0a1-a715-44e1-95be-90edfd22827f",
   "metadata": {},
   "source": [
    "## Tamaño de una lista\n",
    "\n",
    "Para saber la longitud o el tamaño de una lista, podemos hacer uso de la función `len()`"
   ]
  },
  {
   "cell_type": "code",
   "execution_count": 4,
   "id": "b5d8d49f-4e64-4818-a1ee-395f50f3823c",
   "metadata": {},
   "outputs": [
    {
     "data": {
      "text/plain": [
       "9"
      ]
     },
     "execution_count": 4,
     "metadata": {},
     "output_type": "execute_result"
    }
   ],
   "source": [
    "a = [1, 2, 3, 4, 5, 6, 7, 8, 9]\n",
    "len(a)"
   ]
  },
  {
   "cell_type": "code",
   "execution_count": 5,
   "id": "2a3b3a74-08da-4bec-ac7e-d0eef9be96ad",
   "metadata": {},
   "outputs": [
    {
     "data": {
      "text/plain": [
       "4"
      ]
     },
     "execution_count": 5,
     "metadata": {},
     "output_type": "execute_result"
    }
   ],
   "source": [
    "b = [\"Zoe\", \"Pablo\", \"Miguel\", \"Silvia\"]\n",
    "len(b)"
   ]
  },
  {
   "cell_type": "markdown",
   "id": "9881eaee-da64-4836-b4c7-294115d07206",
   "metadata": {},
   "source": [
    "## Elementos de una lista\n",
    "\n",
    "Cada elemento en la lista tiene su propio índice"
   ]
  },
  {
   "cell_type": "code",
   "execution_count": 6,
   "id": "f968edf5-1a1a-4f64-8118-e4a8e4d8990a",
   "metadata": {},
   "outputs": [],
   "source": [
    "names = [\"Maria\", \"Juan\", \"Claudia\", \"Jorge\", \"Avelina\"]"
   ]
  },
  {
   "cell_type": "markdown",
   "id": "34acb486-8765-4e0a-88e0-283eaaa8c930",
   "metadata": {},
   "source": [
    "A `María` le corresponde el índice 0; a `Juan`, el 1; a `Claudia` el 2; a `Jorge`, el 3; y a `Avelina`, el 4.\n",
    "\n",
    "**¡Cuidado!** En `Python`, los índices siempre empiezan en 0. De este modo, al primer elemento le corresponde el índice 0; al segundo, el índice 1; y al $n$-ésimo, le corresponde el índice $n−1$."
   ]
  },
  {
   "cell_type": "code",
   "execution_count": 7,
   "id": "9e0c78a2-c471-4a67-97d6-ad4ae617a6d2",
   "metadata": {},
   "outputs": [
    {
     "name": "stdout",
     "output_type": "stream",
     "text": [
      "Maria\n"
     ]
    }
   ],
   "source": [
    "print(names[0])"
   ]
  },
  {
   "cell_type": "code",
   "execution_count": 8,
   "id": "d32bef2b-7e1d-48a6-957b-2fc060344aad",
   "metadata": {},
   "outputs": [
    {
     "name": "stdout",
     "output_type": "stream",
     "text": [
      "Jorge\n"
     ]
    }
   ],
   "source": [
    "print(names[3])"
   ]
  },
  {
   "cell_type": "code",
   "execution_count": 9,
   "id": "9cf003d5-d797-4eaa-a877-e76f813911d8",
   "metadata": {},
   "outputs": [
    {
     "name": "stdout",
     "output_type": "stream",
     "text": [
      "Avelina\n"
     ]
    }
   ],
   "source": [
    "print(names[-1]) # Último elemento"
   ]
  },
  {
   "cell_type": "code",
   "execution_count": 10,
   "id": "e0a21832-ee96-4719-adfe-5c0d4b8d7061",
   "metadata": {},
   "outputs": [
    {
     "name": "stdout",
     "output_type": "stream",
     "text": [
      "['Claudia', 'Jorge', 'Avelina']\n"
     ]
    }
   ],
   "source": [
    "print(names[2:5])"
   ]
  },
  {
   "cell_type": "markdown",
   "id": "6fcf2c33-16d6-44de-9819-5e917a872c4f",
   "metadata": {},
   "source": [
    "## Añadir nuevo elemento"
   ]
  },
  {
   "cell_type": "markdown",
   "id": "a8992e8d-b1ce-4c9e-a7ef-5a3ad9fefc43",
   "metadata": {},
   "source": [
    "Podemos añadir nuevos elementos a una lista con el método `.append()`"
   ]
  },
  {
   "cell_type": "code",
   "execution_count": 11,
   "id": "fd05c052-4ad0-4d11-b9e9-271907ebd112",
   "metadata": {},
   "outputs": [
    {
     "name": "stdout",
     "output_type": "stream",
     "text": [
      "['Maria', 'Juan', 'Claudia', 'Jorge', 'Avelina', 'Nino']\n",
      "['Maria', 'Juan', 'Claudia', 'Jorge', 'Avelina', 'Nino', 'Ana']\n"
     ]
    }
   ],
   "source": [
    "names.append(\"Nino\")\n",
    "print(names)\n",
    "names.append(\"Ana\")\n",
    "print(names)"
   ]
  },
  {
   "cell_type": "markdown",
   "id": "1cddc789-b579-4102-b2de-1a5842c51720",
   "metadata": {},
   "source": [
    "**Observación.** Los elementos añadidos con el método `.append()`, se incluyen al final."
   ]
  },
  {
   "cell_type": "markdown",
   "id": "f75ed9d1-f811-4fa6-aa1e-8f817e28f850",
   "metadata": {},
   "source": [
    "entonces utilizaremos el método `.insert()` al que primero le indicamos el índice donde queremos posicionar el nuevo elemento y, en segundo lugar, indicamos dicho nuevo elemento."
   ]
  },
  {
   "cell_type": "code",
   "execution_count": 12,
   "id": "58dec5b4-0920-4cc4-97c3-0ff608712a38",
   "metadata": {},
   "outputs": [
    {
     "name": "stdout",
     "output_type": "stream",
     "text": [
      "['Maria', 'Andres', 'Juan', 'Claudia', 'Jorge', 'Avelina', 'Nino', 'Ana']\n",
      "['Maria', 'Andres', 'Juan', 'Miguel', 'Claudia', 'Jorge', 'Avelina', 'Nino', 'Ana']\n"
     ]
    }
   ],
   "source": [
    "names.insert(1, \"Andres\")\n",
    "print(names)\n",
    "names.insert(3, \"Miguel\")\n",
    "print(names)"
   ]
  },
  {
   "cell_type": "markdown",
   "id": "39ff278e-4a7d-4059-b26a-af6829cb402e",
   "metadata": {},
   "source": [
    "## Metodo count()\n",
    "Este método recibe un elemento como argumento, y cuenta la cantidad de veces que aparece en la lista."
   ]
  },
  {
   "cell_type": "code",
   "execution_count": 13,
   "id": "b35b67aa-96bf-4e35-86c5-68711982a59b",
   "metadata": {},
   "outputs": [],
   "source": [
    "a = [2, 2, 2, 4, 5, 2, 7, 4, 5]"
   ]
  },
  {
   "cell_type": "code",
   "execution_count": 14,
   "id": "343de801-e20e-410b-b764-310de3e79223",
   "metadata": {},
   "outputs": [
    {
     "data": {
      "text/plain": [
       "1"
      ]
     },
     "execution_count": 14,
     "metadata": {},
     "output_type": "execute_result"
    }
   ],
   "source": [
    "# Cantidad de veces que hay elemento 2\n",
    "a.count(7)"
   ]
  },
  {
   "cell_type": "markdown",
   "id": "cae814fc-c525-43f5-9257-5966574f9200",
   "metadata": {},
   "source": [
    "### Metodo index()\n",
    "Este método recibe un elemento como argumento, y devuelve el índice de su primera aparición en la lista."
   ]
  },
  {
   "cell_type": "code",
   "execution_count": 15,
   "id": "366d3daf-35d7-429f-b96a-89a65c50a2fc",
   "metadata": {},
   "outputs": [
    {
     "data": {
      "text/plain": [
       "3"
      ]
     },
     "execution_count": 15,
     "metadata": {},
     "output_type": "execute_result"
    }
   ],
   "source": [
    "a.index(4)"
   ]
  },
  {
   "cell_type": "code",
   "execution_count": 16,
   "id": "8cd27061-7db6-4081-9e40-c714dfb07329",
   "metadata": {},
   "outputs": [
    {
     "data": {
      "text/plain": [
       "4"
      ]
     },
     "execution_count": 16,
     "metadata": {},
     "output_type": "execute_result"
    }
   ],
   "source": [
    "a[3]"
   ]
  },
  {
   "cell_type": "markdown",
   "id": "473ca0ed-b1d5-4789-86c0-537a6cdf1205",
   "metadata": {},
   "source": [
    "### Metodo remove()\n",
    "Este método recibe como argumento un elemento, y borra su primera aparición en la lista."
   ]
  },
  {
   "cell_type": "code",
   "execution_count": 17,
   "id": "103dc1da-67cd-4fcf-be80-43006f6a031f",
   "metadata": {},
   "outputs": [
    {
     "data": {
      "text/plain": [
       "[2, 2, 2, 5, 2, 7, 4, 5]"
      ]
     },
     "execution_count": 17,
     "metadata": {},
     "output_type": "execute_result"
    }
   ],
   "source": [
    "a.remove(4)\n",
    "a"
   ]
  },
  {
   "cell_type": "markdown",
   "id": "8ffe2037-d11c-41cf-bd5e-499e826b8194",
   "metadata": {},
   "source": [
    "### Metodo reverse()\n",
    "Este método invierte el orden de los elementos de una lista."
   ]
  },
  {
   "cell_type": "code",
   "execution_count": 18,
   "id": "8821f0a1-dd77-47fe-83bd-4e42d7b50c23",
   "metadata": {},
   "outputs": [
    {
     "data": {
      "text/plain": [
       "[5, 4, 7, 2, 5, 2, 2, 2]"
      ]
     },
     "execution_count": 18,
     "metadata": {},
     "output_type": "execute_result"
    }
   ],
   "source": [
    "a.reverse()\n",
    "a"
   ]
  },
  {
   "cell_type": "markdown",
   "id": "e6064b4f-7436-4740-a40e-2cfc9c5437c9",
   "metadata": {},
   "source": [
    "### Metodo sort()\n",
    "Este método ordena los elementos de una lista."
   ]
  },
  {
   "cell_type": "code",
   "execution_count": 19,
   "id": "b75db49f-6517-482e-a08c-e396bd290470",
   "metadata": {},
   "outputs": [
    {
     "data": {
      "text/plain": [
       "[2, 2, 2, 2, 4, 5, 5, 7]"
      ]
     },
     "execution_count": 19,
     "metadata": {},
     "output_type": "execute_result"
    }
   ],
   "source": [
    "a.sort()\n",
    "a"
   ]
  },
  {
   "cell_type": "markdown",
   "id": "a5342f33-5f5c-4210-a10e-f237d94a819c",
   "metadata": {},
   "source": [
    "## Bucles con listas\n",
    "Si quisiéramos imprimir por pantalla todos los elementos de una lista, lo podríamos hacer mediante los índices"
   ]
  },
  {
   "cell_type": "code",
   "execution_count": 20,
   "id": "6e2697a1-05c6-438a-ad96-b09f415cdefb",
   "metadata": {},
   "outputs": [
    {
     "data": {
      "text/plain": [
       "9"
      ]
     },
     "execution_count": 20,
     "metadata": {},
     "output_type": "execute_result"
    }
   ],
   "source": [
    "len(names)"
   ]
  },
  {
   "cell_type": "code",
   "execution_count": 21,
   "id": "09d96b4f-3ab7-44fe-baa0-20e1bc531077",
   "metadata": {},
   "outputs": [
    {
     "data": {
      "text/plain": [
       "'Andres'"
      ]
     },
     "execution_count": 21,
     "metadata": {},
     "output_type": "execute_result"
    }
   ],
   "source": [
    "names[1]"
   ]
  },
  {
   "cell_type": "code",
   "execution_count": 22,
   "id": "7c059974-9b84-4383-89c2-91bb85332d6e",
   "metadata": {},
   "outputs": [
    {
     "name": "stdout",
     "output_type": "stream",
     "text": [
      "Maria\n",
      "Andres\n",
      "Juan\n",
      "Miguel\n",
      "Claudia\n",
      "Jorge\n",
      "Avelina\n",
      "Nino\n",
      "Ana\n"
     ]
    }
   ],
   "source": [
    "for i in range(len(names)):\n",
    "    print(names[i])"
   ]
  },
  {
   "cell_type": "code",
   "execution_count": 23,
   "id": "0bee79ff-b69b-41ed-83a9-f48d98ad7754",
   "metadata": {},
   "outputs": [
    {
     "name": "stdout",
     "output_type": "stream",
     "text": [
      "Maria\n",
      "Andres\n",
      "Juan\n",
      "Miguel\n",
      "Claudia\n",
      "Jorge\n",
      "Avelina\n",
      "Nino\n",
      "Ana\n"
     ]
    }
   ],
   "source": [
    "for name in names:\n",
    "    print(name)"
   ]
  },
  {
   "cell_type": "markdown",
   "id": "50fbb92e-3887-4bb4-ac5a-9fc4bf273f2f",
   "metadata": {},
   "source": [
    "## Concatenación de listas\n",
    "\n",
    "Dadas dos o más listas, podemos concatenarlas haciendo uso de la función `+`"
   ]
  },
  {
   "cell_type": "code",
   "execution_count": 24,
   "id": "d014cc58-3adc-4aff-8e9e-0a30c537b7e5",
   "metadata": {},
   "outputs": [
    {
     "data": {
      "text/plain": [
       "[True, 21, 'Marta', 22.5, False, 22, 'Rafa']"
      ]
     },
     "execution_count": 24,
     "metadata": {},
     "output_type": "execute_result"
    }
   ],
   "source": [
    "a1 = [True, 21, \"Marta\"]\n",
    "a2 = [22.5, False, 22, \"Rafa\"]\n",
    "a3 = a1 + a2\n",
    "a3"
   ]
  },
  {
   "cell_type": "markdown",
   "id": "86e4c938-8455-490e-8222-0f7feb83f3b0",
   "metadata": {},
   "source": [
    "## Repetición de listas\n",
    "\n",
    "Podemos repetir una misma lista tantas veces como queramos con la función `*`"
   ]
  },
  {
   "cell_type": "code",
   "execution_count": 25,
   "id": "2274d351-8088-49af-86c5-935bb49e02c0",
   "metadata": {},
   "outputs": [
    {
     "name": "stdout",
     "output_type": "stream",
     "text": [
      "['A', 'B', 'C', 'A', 'B', 'C', 'A', 'B', 'C', 'A', 'B', 'C', 'A', 'B', 'C']\n"
     ]
    }
   ],
   "source": [
    "abc = [\"A\", \"B\", \"C\"]\n",
    "print(abc * 5)"
   ]
  },
  {
   "cell_type": "code",
   "execution_count": null,
   "id": "2aa0b5a1-f723-4dad-a1d1-a60349daadc8",
   "metadata": {},
   "outputs": [],
   "source": []
  }
 ],
 "metadata": {
  "kernelspec": {
   "display_name": "Python 3 (ipykernel)",
   "language": "python",
   "name": "python3"
  },
  "language_info": {
   "codemirror_mode": {
    "name": "ipython",
    "version": 3
   },
   "file_extension": ".py",
   "mimetype": "text/x-python",
   "name": "python",
   "nbconvert_exporter": "python",
   "pygments_lexer": "ipython3",
   "version": "3.9.11"
  }
 },
 "nbformat": 4,
 "nbformat_minor": 5
}
