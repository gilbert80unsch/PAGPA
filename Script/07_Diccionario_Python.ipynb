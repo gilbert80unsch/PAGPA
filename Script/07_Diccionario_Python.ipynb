{
 "cells": [
  {
   "cell_type": "markdown",
   "id": "d4e09150-b017-4f91-a43b-03ac24b88e4f",
   "metadata": {},
   "source": [
    "# Estructuras de datos: Diccionarios\n",
    "Son un conjunto de elementos no ordenados escritos entre llaves, `{}`, que constan de claves y valores. \n",
    "\n",
    "Cada conjunto `clave: valor` es separado por comas. Las claves funcionan como identificadores y preceden a `:`. A continuación van los valores, que son elementos (numéricos, booleanos, strings, listas, diccionarios...) asociados a esa clave. \n",
    "\n",
    "Los diccionarios, al igual que las listas, son:\n",
    "- hetereogéneos: los elementos pueden ser de distinto tipo en un mismo diccionario\n",
    "- mutables: los elementos pueden ser modificados\n",
    "\n",
    "Un ejemplo de diccionario sería"
   ]
  },
  {
   "cell_type": "code",
   "execution_count": 2,
   "id": "32eca053-b7b2-4243-a25c-11ecef8f4f71",
   "metadata": {},
   "outputs": [],
   "source": [
    "dicc = {\"Jose\": 32, \n",
    "        \"Marina\": 21}"
   ]
  },
  {
   "cell_type": "code",
   "execution_count": 3,
   "id": "4bcc03e2-a2ab-4062-a543-119a6afda250",
   "metadata": {},
   "outputs": [
    {
     "name": "stdout",
     "output_type": "stream",
     "text": [
      "{'Jose': 32, 'Marina': 21}\n"
     ]
    }
   ],
   "source": [
    "print(dicc)"
   ]
  },
  {
   "cell_type": "code",
   "execution_count": 4,
   "id": "ec7cd488-e80a-4b04-853c-8105e28da6a5",
   "metadata": {},
   "outputs": [
    {
     "data": {
      "text/plain": [
       "dict"
      ]
     },
     "execution_count": 4,
     "metadata": {},
     "output_type": "execute_result"
    }
   ],
   "source": [
    "type(dicc)"
   ]
  },
  {
   "cell_type": "markdown",
   "id": "c5822996-e73f-4396-a964-581426d91415",
   "metadata": {},
   "source": [
    "**¡Cuidado!** En `Python`, las claves de un diccionario deben ser únicas. Esto es, no puede haber dos claves que sean exactamente iguales. Si se da que hay dos claves iguales, entonces `Python` se queda con el último valor asociado a dicha clave."
   ]
  },
  {
   "cell_type": "code",
   "execution_count": 5,
   "id": "9ade451d-e3c1-4901-8a68-7f23a4690066",
   "metadata": {},
   "outputs": [
    {
     "name": "stdout",
     "output_type": "stream",
     "text": [
      "{'Jose': 23, 'Marina': 21}\n"
     ]
    }
   ],
   "source": [
    "dicc = {\"Jose\": 32,\n",
    "        \"Marina\": 21,\n",
    "        \"Jose\": 23}\n",
    "print(dicc)"
   ]
  },
  {
   "cell_type": "code",
   "execution_count": 6,
   "id": "8e97afda-a18c-4b7a-8aaf-d9c40c048210",
   "metadata": {},
   "outputs": [
    {
     "name": "stdout",
     "output_type": "stream",
     "text": [
      "{'Alba': 2, 7: 'a', -5: 'b', 'Javi': 28}\n"
     ]
    }
   ],
   "source": [
    "dicc = {\"Alba\": 2, 7: \"a\", -5: \"b\", \"Javi\": 28}\n",
    "print(dicc)"
   ]
  },
  {
   "cell_type": "markdown",
   "id": "a0ffde86-7d75-4102-8657-eef52dfee7bc",
   "metadata": {},
   "source": [
    "## Elementos de un diccionario\n",
    "\n",
    "Anteriormente se ha comentado que los diccionarios no tienen orden. De modo que a sus elementos no se accede por posición, sino que debemos hacerlo mediante sus claves.\n",
    "\n",
    "La sintaxis es `diccionario[clave]`"
   ]
  },
  {
   "cell_type": "code",
   "execution_count": 11,
   "id": "74a013fd-7384-45fa-9e5d-6ef13a358905",
   "metadata": {},
   "outputs": [],
   "source": [
    "dicc = {\n",
    "    \"nombre\": [\"Ana\", \"Borja\", \"Carmen\"],\n",
    "    \"edad\" : [31, 25, 16]\n",
    "    }"
   ]
  },
  {
   "cell_type": "code",
   "execution_count": 12,
   "id": "bd4afd3f-670a-4f17-a262-b77835e0fc63",
   "metadata": {},
   "outputs": [
    {
     "data": {
      "text/plain": [
       "{'nombre': ['Ana', 'Borja', 'Carmen'], 'edad': [31, 25, 16]}"
      ]
     },
     "execution_count": 12,
     "metadata": {},
     "output_type": "execute_result"
    }
   ],
   "source": [
    "dicc"
   ]
  },
  {
   "cell_type": "code",
   "execution_count": 14,
   "id": "58b5e196-03ba-4173-956c-33a8f17baabe",
   "metadata": {},
   "outputs": [
    {
     "data": {
      "text/plain": [
       "['Ana', 'Borja', 'Carmen']"
      ]
     },
     "execution_count": 14,
     "metadata": {},
     "output_type": "execute_result"
    }
   ],
   "source": [
    "dicc[\"nombre\"]"
   ]
  },
  {
   "cell_type": "code",
   "execution_count": 15,
   "id": "6261bef8-1cfc-4f07-8f32-0b606d461419",
   "metadata": {},
   "outputs": [
    {
     "data": {
      "text/plain": [
       "[31, 25, 16]"
      ]
     },
     "execution_count": 15,
     "metadata": {},
     "output_type": "execute_result"
    }
   ],
   "source": [
    "dicc[\"edad\"]"
   ]
  },
  {
   "cell_type": "markdown",
   "id": "f76b91f0-5d2f-4da9-a392-639da32b78f8",
   "metadata": {},
   "source": [
    "Poemos acceder a todas las claves de un diccionario con el método `.keys()`"
   ]
  },
  {
   "cell_type": "code",
   "execution_count": 16,
   "id": "ff85a9de-39ac-46d4-afef-0c433daaf650",
   "metadata": {},
   "outputs": [
    {
     "data": {
      "text/plain": [
       "dict_keys(['nombre', 'edad'])"
      ]
     },
     "execution_count": 16,
     "metadata": {},
     "output_type": "execute_result"
    }
   ],
   "source": [
    "dicc.keys()"
   ]
  },
  {
   "cell_type": "markdown",
   "id": "7861d214-1a69-46ae-a901-051712b1a848",
   "metadata": {},
   "source": [
    "También podemos acceder a todos los valores de un diccionario con el método `.values()`"
   ]
  },
  {
   "cell_type": "code",
   "execution_count": 17,
   "id": "ed8e2ac3-f0cb-4073-8f1e-ce23a514b1e3",
   "metadata": {},
   "outputs": [
    {
     "data": {
      "text/plain": [
       "dict_values([['Ana', 'Borja', 'Carmen'], [31, 25, 16]])"
      ]
     },
     "execution_count": 17,
     "metadata": {},
     "output_type": "execute_result"
    }
   ],
   "source": [
    "dicc.values()"
   ]
  },
  {
   "cell_type": "markdown",
   "id": "848225fd-a4e0-4d49-b1c0-d822d27a1c56",
   "metadata": {},
   "source": [
    "Al ser una estructura mutable, podemos modificar los valores de los diccionarios"
   ]
  },
  {
   "cell_type": "code",
   "execution_count": 20,
   "id": "ca61e3b3-f44e-40aa-97cf-c95b2d1ee2e9",
   "metadata": {},
   "outputs": [
    {
     "name": "stdout",
     "output_type": "stream",
     "text": [
      "{'nombre': ['Nino', 'Frank', 'Bravo'], 'edad': [31, 25, 36]}\n"
     ]
    }
   ],
   "source": [
    "dicc[\"nombre\"]= [\"Nino\",\"Frank\",\"Bravo\"]\n",
    "dicc[\"edad\"][2] = 36\n",
    "print(dicc)"
   ]
  },
  {
   "cell_type": "markdown",
   "id": "6830b5c6-d45b-4ee1-8538-b7fb2453d8eb",
   "metadata": {},
   "source": [
    "## Tamaño de un diccionario\n",
    "\n",
    "Para saber cuántos elementos contiene un diccionario, podemos usar la función `len()`del siguiente modo:"
   ]
  },
  {
   "cell_type": "code",
   "execution_count": 21,
   "id": "65bbfa04-3785-4977-b903-97363850ef38",
   "metadata": {},
   "outputs": [
    {
     "name": "stdout",
     "output_type": "stream",
     "text": [
      "3\n"
     ]
    }
   ],
   "source": [
    "dicc = {\"frutas\": [\"Manzana\", \"Pera\", \"Naranja\"],\n",
    "        \"precio\": [2, 1.5, 1],\n",
    "        \"color\": [\"roja\", \"verde\", \"naranja\"]}\n",
    "        \n",
    "print(len(dicc))"
   ]
  },
  {
   "cell_type": "markdown",
   "id": "d87137b5-6e03-473e-a81a-7acc963b117e",
   "metadata": {},
   "source": [
    "## Construyendo diccionarios con dict()\n",
    "\n",
    "Para convertir un objeto iterable de `Python` a diccionario, hay que usar la función `dict()`"
   ]
  },
  {
   "cell_type": "code",
   "execution_count": 22,
   "id": "af1d0953-2dab-41b1-a820-46519ba30363",
   "metadata": {},
   "outputs": [
    {
     "data": {
      "text/plain": [
       "{'x': 1, 'y': 2}"
      ]
     },
     "execution_count": 22,
     "metadata": {},
     "output_type": "execute_result"
    }
   ],
   "source": [
    "a = [[\"x\", 1], [\"y\", 2]]\n",
    "dict(a)"
   ]
  },
  {
   "cell_type": "markdown",
   "id": "66db0475-826d-47e3-9bab-1a1836bfce96",
   "metadata": {},
   "source": [
    "Aunque la función `dict()` también sirve para definir diccionarios directamente:"
   ]
  },
  {
   "cell_type": "code",
   "execution_count": 23,
   "id": "b2d227f9-b236-42c7-a46d-6b971e31a2ea",
   "metadata": {},
   "outputs": [
    {
     "name": "stdout",
     "output_type": "stream",
     "text": [
      "{'x': 0, 'y': 1, 'z': -1}\n"
     ]
    }
   ],
   "source": [
    "dicc1 = dict(x = 0, y = 1, z = -1)\n",
    "print(dicc1)"
   ]
  },
  {
   "cell_type": "code",
   "execution_count": 24,
   "id": "6d9ec095-3738-4b0c-b4c1-db3d231a2fb8",
   "metadata": {},
   "outputs": [
    {
     "name": "stdout",
     "output_type": "stream",
     "text": [
      "{'x': 0, 'y': 1, 'z': -1}\n"
     ]
    }
   ],
   "source": [
    "dicc2 = dict({\"x\": 0, \"y\": 1, \"z\": -1})\n",
    "print(dicc2)"
   ]
  },
  {
   "cell_type": "code",
   "execution_count": null,
   "id": "61aca59e-c775-49b4-901c-a591c8db50a2",
   "metadata": {},
   "outputs": [],
   "source": []
  }
 ],
 "metadata": {
  "kernelspec": {
   "display_name": "Python 3 (ipykernel)",
   "language": "python",
   "name": "python3"
  },
  "language_info": {
   "codemirror_mode": {
    "name": "ipython",
    "version": 3
   },
   "file_extension": ".py",
   "mimetype": "text/x-python",
   "name": "python",
   "nbconvert_exporter": "python",
   "pygments_lexer": "ipython3",
   "version": "3.9.11"
  }
 },
 "nbformat": 4,
 "nbformat_minor": 5
}
