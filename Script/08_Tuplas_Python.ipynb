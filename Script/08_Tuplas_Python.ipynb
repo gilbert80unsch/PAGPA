{
 "cells": [
  {
   "cell_type": "markdown",
   "id": "d4eb2777-c2c7-4924-ba7e-db599076bdbd",
   "metadata": {},
   "source": [
    "# Estructuras de datos: Tuplas\n",
    "La última estructura que veremos son las tuplas. Éstas son un conjunto de elementos, que pueden ser de distintos tipos, separados por comas y escritos entre paréntesis, `()`.\n",
    "\n",
    "Las tuplas son:\n",
    "- hetereogéneas: los elementos pueden ser de distinto tipo en una misma tupla\n",
    "- no mutables: los elementos no pueden ser modifcados una vez la tupla ha sido creado\n",
    "\n",
    "Un ejemplo de tupla sería"
   ]
  },
  {
   "cell_type": "code",
   "execution_count": 4,
   "id": "833b1674-4ec5-4c77-97a2-aba9e8cd043d",
   "metadata": {},
   "outputs": [
    {
     "name": "stdout",
     "output_type": "stream",
     "text": [
      "('Nino', 32, 'Bravo', True)\n"
     ]
    }
   ],
   "source": [
    "t = (\"Nino\", 32, \"Bravo\", True)\n",
    "print(t)"
   ]
  },
  {
   "cell_type": "markdown",
   "id": "8f8c2c20-1804-4249-a3b8-23749d25b0ad",
   "metadata": {},
   "source": [
    "Podemos declarar una tupla sin necesidad indicar sus elementos entre paréntesis"
   ]
  },
  {
   "cell_type": "code",
   "execution_count": 5,
   "id": "e8d94f70-b9e5-4912-90e1-10e4c24040f3",
   "metadata": {},
   "outputs": [
    {
     "data": {
      "text/plain": [
       "tuple"
      ]
     },
     "execution_count": 5,
     "metadata": {},
     "output_type": "execute_result"
    }
   ],
   "source": [
    "type(t)"
   ]
  },
  {
   "cell_type": "markdown",
   "id": "d34efc69-e8ba-449c-806a-7db4ad21f63e",
   "metadata": {},
   "source": [
    "Podemos declarar tuplas con la función `tuple()`"
   ]
  },
  {
   "cell_type": "code",
   "execution_count": 6,
   "id": "a85ae06c-1f99-4d90-83e4-0bc88c3c5962",
   "metadata": {},
   "outputs": [
    {
     "data": {
      "text/plain": [
       "tuple"
      ]
     },
     "execution_count": 6,
     "metadata": {},
     "output_type": "execute_result"
    }
   ],
   "source": [
    "t = tuple((\"Nino\", 32, \"Bravo\", True))\n",
    "type(t)"
   ]
  },
  {
   "cell_type": "code",
   "execution_count": 7,
   "id": "0aaaa87f-e2eb-4381-9aca-6d228c6793a5",
   "metadata": {},
   "outputs": [
    {
     "data": {
      "text/plain": [
       "(1, 2, 3)"
      ]
     },
     "execution_count": 7,
     "metadata": {},
     "output_type": "execute_result"
    }
   ],
   "source": [
    "tuple([1,2,3])"
   ]
  },
  {
   "cell_type": "markdown",
   "id": "3cbcbb9c-ff41-4916-94cc-e4b485b5a504",
   "metadata": {},
   "source": [
    "## Elementos de una tupla\n",
    "\n",
    "Podemos acceder a los elementos de una tupla mediante el índice que ocupan con la sintaxis de claudator, `[]`"
   ]
  },
  {
   "cell_type": "code",
   "execution_count": 8,
   "id": "12d2e9f3-cbf1-4a78-9942-57c81a35805a",
   "metadata": {},
   "outputs": [],
   "source": [
    "t = 1, \"a\", 2, \"e\", 3, \"i\", 4, \"o\", 5, \"u\""
   ]
  },
  {
   "cell_type": "code",
   "execution_count": 9,
   "id": "26374aca-bf26-493e-96af-a037cfed0173",
   "metadata": {},
   "outputs": [
    {
     "data": {
      "text/plain": [
       "tuple"
      ]
     },
     "execution_count": 9,
     "metadata": {},
     "output_type": "execute_result"
    }
   ],
   "source": [
    "type(t)"
   ]
  },
  {
   "cell_type": "code",
   "execution_count": 10,
   "id": "d740b561-d276-4838-b140-137ed9c95932",
   "metadata": {},
   "outputs": [
    {
     "name": "stdout",
     "output_type": "stream",
     "text": [
      "1\n",
      "i\n"
     ]
    }
   ],
   "source": [
    "print(t[0])\n",
    "print(t[5])"
   ]
  },
  {
   "cell_type": "markdown",
   "id": "bb42782d-9993-465a-a21b-ef896e17345c",
   "metadata": {},
   "source": [
    "Al igual que con las listas, podemos acceder a los elementos de tuplas mediante el uso de índices negativos"
   ]
  },
  {
   "cell_type": "code",
   "execution_count": 11,
   "id": "2209d341-0f1c-4714-a980-00dc2783d52b",
   "metadata": {},
   "outputs": [
    {
     "name": "stdout",
     "output_type": "stream",
     "text": [
      "u\n",
      "4\n"
     ]
    }
   ],
   "source": [
    "print(t[-1])\n",
    "print(t[-4])"
   ]
  },
  {
   "cell_type": "markdown",
   "id": "ea65bc2d-d0ce-47a4-a069-0e41376126f7",
   "metadata": {},
   "source": [
    "Para acceder a múltiples entradas de una tupla a la vez, podemos utilizar la función `:` para indicar un intervalo de índices."
   ]
  },
  {
   "cell_type": "code",
   "execution_count": 12,
   "id": "0941be52-a657-4a69-9dac-d99f2316ec91",
   "metadata": {},
   "outputs": [
    {
     "name": "stdout",
     "output_type": "stream",
     "text": [
      "(2, 'e', 3, 'i')\n",
      "(1, 'a', 2, 'e', 3)\n",
      "('i', 4, 'o', 5, 'u')\n"
     ]
    }
   ],
   "source": [
    "print(t[2:6])\n",
    "print(t[:5])\n",
    "print(t[5:])"
   ]
  },
  {
   "cell_type": "markdown",
   "id": "47cdfd42-2421-40dc-a0a7-f135ff34806d",
   "metadata": {},
   "source": [
    "**Observación.** Recordad que \n",
    "- el índice indicado tras los dos puntos, `:`, nunca es incluido.\n",
    "- si no se indica índice a la izquierda de `:`, se considera desde el índice 0 hasta el inmediatamente anterior al indicado a la derecha de `:`\n",
    "- si no se indica índice a la derecha de `:`, se considera desde el índice indicado a la izquierda de `:` hasta el último elemento\n",
    "\n",
    "También podemos usar índices negativos con la función `:`"
   ]
  },
  {
   "cell_type": "code",
   "execution_count": 13,
   "id": "087f0ce7-b588-4e0b-a4ea-605a4940a392",
   "metadata": {},
   "outputs": [
    {
     "name": "stdout",
     "output_type": "stream",
     "text": [
      "('i', 4, 'o', 5)\n"
     ]
    }
   ],
   "source": [
    "print(t[-5:-1])"
   ]
  },
  {
   "cell_type": "markdown",
   "id": "4f2a895a-898c-4661-9caa-2e9857884b66",
   "metadata": {},
   "source": [
    "Para saber si un elemento pertenece a una tupla, podemos usar la palabra clave `in`"
   ]
  },
  {
   "cell_type": "code",
   "execution_count": 14,
   "id": "b0dce535-0c0c-4a1b-99d6-68fc24c7f5c9",
   "metadata": {},
   "outputs": [
    {
     "name": "stdout",
     "output_type": "stream",
     "text": [
      "False\n",
      "True\n"
     ]
    }
   ],
   "source": [
    "print(6 in t)\n",
    "print(\"i\" in t)"
   ]
  },
  {
   "cell_type": "markdown",
   "id": "200baef8-9bcc-434f-b267-8e61f5bb8454",
   "metadata": {},
   "source": [
    "Hemos dicho que las tuplas son inmutables. Esto es, una vez creada la tupla, sus elementos no pueden ser modificados"
   ]
  },
  {
   "cell_type": "code",
   "execution_count": 1,
   "id": "104ebc2d-32bd-4022-b0db-4f4d8e10f036",
   "metadata": {},
   "outputs": [
    {
     "ename": "TypeError",
     "evalue": "'tuple' object does not support item assignment",
     "output_type": "error",
     "traceback": [
      "\u001b[1;31m---------------------------------------------------------------------------\u001b[0m",
      "\u001b[1;31mTypeError\u001b[0m                                 Traceback (most recent call last)",
      "Cell \u001b[1;32mIn [1], line 2\u001b[0m\n\u001b[0;32m      1\u001b[0m t \u001b[38;5;241m=\u001b[39m \u001b[38;5;124m\"\u001b[39m\u001b[38;5;124mEnero\u001b[39m\u001b[38;5;124m\"\u001b[39m, \u001b[38;5;124m\"\u001b[39m\u001b[38;5;124mMarzo\u001b[39m\u001b[38;5;124m\"\u001b[39m, \u001b[38;5;124m\"\u001b[39m\u001b[38;5;124mDiciembre\u001b[39m\u001b[38;5;124m\"\u001b[39m\n\u001b[1;32m----> 2\u001b[0m \u001b[43mt\u001b[49m\u001b[43m[\u001b[49m\u001b[38;5;241;43m1\u001b[39;49m\u001b[43m]\u001b[49m \u001b[38;5;241m=\u001b[39m \u001b[38;5;124m\"\u001b[39m\u001b[38;5;124mAbril\u001b[39m\u001b[38;5;124m\"\u001b[39m\n",
      "\u001b[1;31mTypeError\u001b[0m: 'tuple' object does not support item assignment"
     ]
    }
   ],
   "source": [
    "t = \"Enero\", \"Marzo\", \"Diciembre\"\n",
    "t[1] = \"Abril\""
   ]
  },
  {
   "cell_type": "markdown",
   "id": "cacbc036-daca-489c-be3d-82463a1c0537",
   "metadata": {},
   "source": [
    "Una alternativa sería convertir a lista, realizar la modificación y reconvertir a tupla"
   ]
  },
  {
   "cell_type": "code",
   "execution_count": 16,
   "id": "24a336b3-66dc-452e-a661-f7a44e0de658",
   "metadata": {},
   "outputs": [
    {
     "name": "stdout",
     "output_type": "stream",
     "text": [
      "('Enero', 'Abril', 'Diciembre')\n",
      "<class 'tuple'>\n"
     ]
    }
   ],
   "source": [
    "t = \"Enero\", \"Marzo\", \"Diciembre\"\n",
    "t = list(t)\n",
    "t[1] = \"Abril\"\n",
    "t = tuple(t)\n",
    "\n",
    "print(t)\n",
    "print(type(t))"
   ]
  },
  {
   "cell_type": "markdown",
   "id": "9130b2a4-5675-4941-b4bc-bcd25a367364",
   "metadata": {},
   "source": [
    "## Concatenación de tuplas\n",
    "\n",
    "Podemos concatenar tuplas con la función `+`, aunque el resultado será una nueva tupla, ya que recordemos éstas no pueden ser modificadas"
   ]
  },
  {
   "cell_type": "code",
   "execution_count": 17,
   "id": "2453bf0a-5bd1-46a7-992f-942c6acee067",
   "metadata": {},
   "outputs": [
    {
     "data": {
      "text/plain": [
       "(1, 3, 2, 4)"
      ]
     },
     "execution_count": 17,
     "metadata": {},
     "output_type": "execute_result"
    }
   ],
   "source": [
    "t1 = 1, 3\n",
    "t2 = 2, 4\n",
    "\n",
    "t1 + t2"
   ]
  },
  {
   "cell_type": "markdown",
   "id": "182603cb-bb4a-4557-a11d-caa8b377df49",
   "metadata": {},
   "source": [
    "## Repetición de tuplas\n",
    "\n",
    "Podemos repetir tuplas un número $n$ de veces con la función `*`"
   ]
  },
  {
   "cell_type": "code",
   "execution_count": 18,
   "id": "15d965a6-e34d-45f4-b580-2f39706a0845",
   "metadata": {},
   "outputs": [
    {
     "data": {
      "text/plain": [
       "('a', 'b', 'c', 'a', 'b', 'c', 'a', 'b', 'c', 'a', 'b', 'c', 'a', 'b', 'c')"
      ]
     },
     "execution_count": 18,
     "metadata": {},
     "output_type": "execute_result"
    }
   ],
   "source": [
    "t = (\"a\", \"b\", \"c\")\n",
    "t * 5"
   ]
  },
  {
   "cell_type": "markdown",
   "id": "c41813e6-fa6f-4e05-97a1-bc6ece5bc684",
   "metadata": {},
   "source": [
    "## Tamaño de una tupla\n",
    "\n",
    "Podemos calcular el número de elementos de una tupla con la función `len()`"
   ]
  },
  {
   "cell_type": "code",
   "execution_count": 19,
   "id": "0a680f05-4b31-44b7-867c-d47699f38277",
   "metadata": {},
   "outputs": [
    {
     "data": {
      "text/plain": [
       "4"
      ]
     },
     "execution_count": 19,
     "metadata": {},
     "output_type": "execute_result"
    }
   ],
   "source": [
    "t = (\"Nino\", 32, \"Bravo\", True)\n",
    "len(t)"
   ]
  },
  {
   "cell_type": "markdown",
   "id": "d7252d0f-dcb9-40ae-958b-045ab224f7c2",
   "metadata": {},
   "source": [
    "**¡Cuidado!** Si quisiésemos crear una tupla de un solo elemento, tendríamos que hacer lo siguiente"
   ]
  },
  {
   "cell_type": "code",
   "execution_count": 21,
   "id": "7fc00ae4-381d-4cab-ad56-ac40d0ce15f6",
   "metadata": {},
   "outputs": [
    {
     "name": "stdout",
     "output_type": "stream",
     "text": [
      "<class 'tuple'>\n"
     ]
    },
    {
     "data": {
      "text/plain": [
       "1"
      ]
     },
     "execution_count": 21,
     "metadata": {},
     "output_type": "execute_result"
    }
   ],
   "source": [
    "t1 = (\"manzana\", )\n",
    "print(type(t1))\n",
    "len(t1)"
   ]
  },
  {
   "cell_type": "code",
   "execution_count": 23,
   "id": "8d920bdf-e739-443d-a0ad-9178ef6d6188",
   "metadata": {},
   "outputs": [
    {
     "data": {
      "text/plain": [
       "('manzana',)"
      ]
     },
     "execution_count": 23,
     "metadata": {},
     "output_type": "execute_result"
    }
   ],
   "source": [
    "t1"
   ]
  },
  {
   "cell_type": "code",
   "execution_count": 22,
   "id": "855870ca-f564-4093-b1ac-93b681ae780c",
   "metadata": {},
   "outputs": [
    {
     "name": "stdout",
     "output_type": "stream",
     "text": [
      "<class 'str'>\n"
     ]
    }
   ],
   "source": [
    "# Lo siguiente no es una tupla\n",
    "t2 = (\"manzana\")\n",
    "print(type(t2))"
   ]
  },
  {
   "cell_type": "code",
   "execution_count": 24,
   "id": "6c2f9e67-f3f6-43e8-abaa-bb41fc28f9f6",
   "metadata": {},
   "outputs": [
    {
     "data": {
      "text/plain": [
       "'manzana'"
      ]
     },
     "execution_count": 24,
     "metadata": {},
     "output_type": "execute_result"
    }
   ],
   "source": [
    "t2"
   ]
  }
 ],
 "metadata": {
  "kernelspec": {
   "display_name": "Python 3 (ipykernel)",
   "language": "python",
   "name": "python3"
  },
  "language_info": {
   "codemirror_mode": {
    "name": "ipython",
    "version": 3
   },
   "file_extension": ".py",
   "mimetype": "text/x-python",
   "name": "python",
   "nbconvert_exporter": "python",
   "pygments_lexer": "ipython3",
   "version": "3.9.11"
  }
 },
 "nbformat": 4,
 "nbformat_minor": 5
}
