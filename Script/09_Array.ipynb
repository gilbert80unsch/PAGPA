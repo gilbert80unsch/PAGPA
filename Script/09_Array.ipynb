{
 "cells": [
  {
   "cell_type": "markdown",
   "id": "66800776-85ae-4264-9673-4ad127fd6fef",
   "metadata": {},
   "source": [
    "# Array en Python\n",
    "## Introducción Array y Matriz\n",
    "La matrices no son una estructura propia de Python, una matriz es una lista de listas que nosotros interpretamos desde el punto de vista matemático. Es decir,\n",
    "la estructura m = `[[1, 2, 3], [4, 5, 6], [7, 8, 9]]` nosotros la interpretamos como la matriz 3x3 cuya primera fila es (1,2,3) y cuya segunda fila es (4,5,6), pero esto no deja de ser una interpretación."
   ]
  },
  {
   "cell_type": "code",
   "execution_count": 1,
   "id": "a881240f-2005-4cc7-b054-ea6be21c5935",
   "metadata": {},
   "outputs": [
    {
     "data": {
      "text/plain": [
       "[[1, 2, 3], [4, 5, 6], [7, 8, 9]]"
      ]
     },
     "execution_count": 1,
     "metadata": {},
     "output_type": "execute_result"
    }
   ],
   "source": [
    "listaX = [[1, 2, 3], [4, 5, 6], [7, 8, 9]]\n",
    "listaX"
   ]
  },
  {
   "cell_type": "code",
   "execution_count": 2,
   "id": "c41ebb02-dc21-4c5d-bab6-89360f904450",
   "metadata": {},
   "outputs": [
    {
     "data": {
      "text/plain": [
       "list"
      ]
     },
     "execution_count": 2,
     "metadata": {},
     "output_type": "execute_result"
    }
   ],
   "source": [
    "type(listaX)"
   ]
  },
  {
   "cell_type": "markdown",
   "id": "85cdbda2-4870-4f1a-b984-fc065b63a80e",
   "metadata": {},
   "source": [
    "**Matriz.** Una matriz de dimensiones $m\\times n$ es una tabla formada por elementos dispuestos en $m$ filas y $n$ columnas de la forma\n",
    "\n",
    "$$A = \\begin{pmatrix}\n",
    "a_{11} & a_{12} & \\cdots & a_{1n}\\\\\n",
    "a_{21} & a_{22} & \\cdots & a_{2n}\\\\\n",
    "\\vdots & \\vdots & \\ddots & \\vdots\\\\\n",
    "a_{m1} & a_{m2} & \\cdots & a_{mn}\\end{pmatrix}$$\n",
    "\n",
    "Los elementos de la matriz se representan con doble subíndice, $a_{ij}$, donde el primero indica la fila a la que pertenece y, el segundo, la columna.\n",
    "\n",
    "Entonces, la matriz que hemos definido anteriormente"
   ]
  },
  {
   "cell_type": "markdown",
   "id": "7eb05eff-e395-4965-ba66-e2faa33aa03c",
   "metadata": {},
   "source": [
    "escrita en forma de tabla sería: `matrix` $= \\displaystyle\\begin{pmatrix} 1 & 2 & 3\\\\ 4 & 5 & 6\\\\ 7 & 8 & 9\\end{pmatrix}$\n",
    "\n",
    "Para acceder a los elementos de una matriz en `Python`, utilizamos la sintaxis `[][]`, donde primero indicamos la fila y, a continuación, la columna"
   ]
  },
  {
   "cell_type": "code",
   "execution_count": 68,
   "id": "3835cee6-f56b-434b-bb10-a71516c7c677",
   "metadata": {},
   "outputs": [
    {
     "data": {
      "text/plain": [
       "3"
      ]
     },
     "execution_count": 68,
     "metadata": {},
     "output_type": "execute_result"
    }
   ],
   "source": [
    "listaX[0][2]"
   ]
  },
  {
   "cell_type": "code",
   "execution_count": 69,
   "id": "9469ed4e-1d72-4bf0-aeed-ac2728a0fde8",
   "metadata": {},
   "outputs": [
    {
     "data": {
      "text/plain": [
       "5"
      ]
     },
     "execution_count": 69,
     "metadata": {},
     "output_type": "execute_result"
    }
   ],
   "source": [
    "listaX[1][1]"
   ]
  },
  {
   "cell_type": "code",
   "execution_count": 70,
   "id": "264302f9-b701-408b-8eeb-8df6c22e39d6",
   "metadata": {},
   "outputs": [
    {
     "data": {
      "text/plain": [
       "7"
      ]
     },
     "execution_count": 70,
     "metadata": {},
     "output_type": "execute_result"
    }
   ],
   "source": [
    "listaX[2][0]"
   ]
  },
  {
   "cell_type": "markdown",
   "id": "a054dca7-3ef3-4103-8ca3-e41b031701ad",
   "metadata": {},
   "source": [
    "## Array con `numpy`\n",
    "\n",
    "Existe una forma más sencilla de trabajar con matrices y es gracias a la librería `numpy`. Para importarla, simplemente hay que ejecutar la siguiente línea de código."
   ]
  },
  {
   "cell_type": "code",
   "execution_count": 2,
   "id": "02170e67-e46f-4f2c-8858-333ec62967bb",
   "metadata": {},
   "outputs": [],
   "source": [
    "import numpy as np"
   ]
  },
  {
   "cell_type": "markdown",
   "id": "5617bb1f-ba64-4ea4-aacb-45e0dc0398c5",
   "metadata": {},
   "source": [
    "### Crear un array"
   ]
  },
  {
   "cell_type": "markdown",
   "id": "6a2ec4de-918c-4c05-98b5-e610d6618a34",
   "metadata": {},
   "source": [
    "Para crear un `ndarray` usamos el método `.array()`.\n",
    "\n",
    "Lo podemos hacer a partir de una lista:"
   ]
  },
  {
   "cell_type": "code",
   "execution_count": 4,
   "id": "92c0c60c-8d11-472d-8d82-b26497785e27",
   "metadata": {},
   "outputs": [
    {
     "name": "stdout",
     "output_type": "stream",
     "text": [
      "[1 2 3 4 5]\n"
     ]
    }
   ],
   "source": [
    "lista = [1, 2, 3, 4, 5]\n",
    "a = np.array(lista)\n",
    "print(a)"
   ]
  },
  {
   "cell_type": "code",
   "execution_count": 5,
   "id": "d08fdb47-7d04-41d6-aab1-ec689543f044",
   "metadata": {},
   "outputs": [
    {
     "data": {
      "text/plain": [
       "numpy.ndarray"
      ]
     },
     "execution_count": 5,
     "metadata": {},
     "output_type": "execute_result"
    }
   ],
   "source": [
    "type(a)"
   ]
  },
  {
   "cell_type": "markdown",
   "id": "3e8cb3a5-157a-4204-a3cb-ba12dcf2c8c6",
   "metadata": {},
   "source": [
    "O bien, a partir de una tupla:"
   ]
  },
  {
   "cell_type": "code",
   "execution_count": 6,
   "id": "b585c9b2-445a-4099-b9dd-c83d059ae738",
   "metadata": {},
   "outputs": [
    {
     "name": "stdout",
     "output_type": "stream",
     "text": [
      "[1 2 3 4 5 6 7]\n"
     ]
    }
   ],
   "source": [
    "tupla = (1, 2, 3, 4, 5, 6, 7)\n",
    "b = np.array(tupla)\n",
    "print(b)"
   ]
  },
  {
   "cell_type": "code",
   "execution_count": 7,
   "id": "f3a91e23-d879-4a62-a541-8f202357d6be",
   "metadata": {},
   "outputs": [
    {
     "data": {
      "text/plain": [
       "numpy.ndarray"
      ]
     },
     "execution_count": 7,
     "metadata": {},
     "output_type": "execute_result"
    }
   ],
   "source": [
    "type(b)"
   ]
  },
  {
   "cell_type": "markdown",
   "id": "4a9043b8-507d-4c9d-ac50-6274e9432838",
   "metadata": {},
   "source": [
    "Vamos a trabajar con los datos listaX y creamos en array"
   ]
  },
  {
   "cell_type": "code",
   "execution_count": 8,
   "id": "7ea5db70-81da-4692-95ed-c4442de0b9e2",
   "metadata": {},
   "outputs": [
    {
     "data": {
      "text/plain": [
       "array([[1, 2, 3],\n",
       "       [4, 5, 6],\n",
       "       [7, 8, 9]])"
      ]
     },
     "execution_count": 8,
     "metadata": {},
     "output_type": "execute_result"
    }
   ],
   "source": [
    "x = np.array(listaX)\n",
    "x"
   ]
  },
  {
   "cell_type": "code",
   "execution_count": 9,
   "id": "b0d8706b-3c23-420c-ba20-3074d7fb6a4d",
   "metadata": {},
   "outputs": [
    {
     "data": {
      "text/plain": [
       "numpy.ndarray"
      ]
     },
     "execution_count": 9,
     "metadata": {},
     "output_type": "execute_result"
    }
   ],
   "source": [
    "type(x)"
   ]
  },
  {
   "cell_type": "code",
   "execution_count": 10,
   "id": "17b1d3f1-165b-4e51-8435-987fb6540778",
   "metadata": {},
   "outputs": [
    {
     "data": {
      "text/plain": [
       "2"
      ]
     },
     "execution_count": 10,
     "metadata": {},
     "output_type": "execute_result"
    }
   ],
   "source": [
    "# Numero de dimension matriz\n",
    "x.ndim"
   ]
  },
  {
   "cell_type": "code",
   "execution_count": 19,
   "id": "e259ec63-e241-43be-84da-f85108ecf75c",
   "metadata": {},
   "outputs": [
    {
     "data": {
      "text/plain": [
       "(3, 3)"
      ]
     },
     "execution_count": 19,
     "metadata": {},
     "output_type": "execute_result"
    }
   ],
   "source": [
    "# Determinar la fila y columna matriz\n",
    "x.shape"
   ]
  },
  {
   "cell_type": "code",
   "execution_count": 53,
   "id": "ea663248-2e1e-4de4-827b-2e712a7862a5",
   "metadata": {},
   "outputs": [
    {
     "data": {
      "text/plain": [
       "9"
      ]
     },
     "execution_count": 53,
     "metadata": {},
     "output_type": "execute_result"
    }
   ],
   "source": [
    "# Determinar la cantidad de datos\n",
    "x.size"
   ]
  },
  {
   "cell_type": "code",
   "execution_count": 20,
   "id": "a7d87d10-f878-4cc8-8949-89c955604cd4",
   "metadata": {},
   "outputs": [
    {
     "data": {
      "text/plain": [
       "dtype('int32')"
      ]
     },
     "execution_count": 20,
     "metadata": {},
     "output_type": "execute_result"
    }
   ],
   "source": [
    "# Tipo de datos numerico\n",
    "x.dtype"
   ]
  },
  {
   "cell_type": "code",
   "execution_count": 21,
   "id": "d304db29-0a44-4f68-abc8-68b95a28594a",
   "metadata": {},
   "outputs": [
    {
     "data": {
      "text/plain": [
       "4"
      ]
     },
     "execution_count": 21,
     "metadata": {},
     "output_type": "execute_result"
    }
   ],
   "source": [
    "# Saber el tamaño de la matriz kb\n",
    "x.itemsize"
   ]
  },
  {
   "cell_type": "code",
   "execution_count": 22,
   "id": "8983bb07-644a-40da-8cd4-f82462369593",
   "metadata": {},
   "outputs": [
    {
     "name": "stdout",
     "output_type": "stream",
     "text": [
      "Numero de elementos: 9\n",
      "Numero de dimension: 2\n",
      "Numero fila y columna: (3, 3)\n",
      "Tipo de datos numerico: int32\n",
      "Tamaño de la matriz kb: 4\n"
     ]
    }
   ],
   "source": [
    "# Imprimir los datos\n",
    "print(\"Numero de elementos: \" + str(x.size))\n",
    "print(\"Numero de dimension: \" + str(x.ndim))\n",
    "print(\"Numero fila y columna: \" + str(x.shape))\n",
    "print(\"Tipo de datos numerico: \" + str(x.dtype))\n",
    "print(\"Tamaño de la matriz kb: \" + str(x.itemsize))"
   ]
  },
  {
   "cell_type": "code",
   "execution_count": 24,
   "id": "4b22d9d3-39e1-48f7-a0bf-acae3c60d350",
   "metadata": {},
   "outputs": [
    {
     "data": {
      "text/plain": [
       "array([[1, 2, 3],\n",
       "       [4, 5, 6],\n",
       "       [7, 8, 9]])"
      ]
     },
     "execution_count": 24,
     "metadata": {},
     "output_type": "execute_result"
    }
   ],
   "source": [
    "x"
   ]
  },
  {
   "cell_type": "code",
   "execution_count": 28,
   "id": "076c90f7-c236-4577-ac0f-c4d5be49350f",
   "metadata": {},
   "outputs": [
    {
     "data": {
      "text/plain": [
       "1"
      ]
     },
     "execution_count": 28,
     "metadata": {},
     "output_type": "execute_result"
    }
   ],
   "source": [
    "# Seleccionar fila\n",
    "a = x[2,]\n",
    "a.ndim"
   ]
  },
  {
   "cell_type": "code",
   "execution_count": 29,
   "id": "8be36d30-bad0-4e2e-9300-c67466b69b51",
   "metadata": {},
   "outputs": [
    {
     "data": {
      "text/plain": [
       "5"
      ]
     },
     "execution_count": 29,
     "metadata": {},
     "output_type": "execute_result"
    }
   ],
   "source": [
    "# Seleccionar un dato matriz\n",
    "x[1,1]"
   ]
  },
  {
   "cell_type": "code",
   "execution_count": 4,
   "id": "4ff249c0-db88-4465-8115-18086b4601a7",
   "metadata": {},
   "outputs": [
    {
     "data": {
      "text/plain": [
       "array([ 0,  1,  2,  3,  4,  5,  6,  7,  8,  9, 10, 11])"
      ]
     },
     "execution_count": 4,
     "metadata": {},
     "output_type": "execute_result"
    }
   ],
   "source": [
    "# Crear una lista datos\n",
    "y = np.arange(0,12,1)\n",
    "y"
   ]
  },
  {
   "cell_type": "code",
   "execution_count": 5,
   "id": "41882f3b-bf90-40d4-96f2-d81b28fb27f4",
   "metadata": {},
   "outputs": [
    {
     "data": {
      "text/plain": [
       "array([[ 0,  1,  2,  3],\n",
       "       [ 4,  5,  6,  7],\n",
       "       [ 8,  9, 10, 11]])"
      ]
     },
     "execution_count": 5,
     "metadata": {},
     "output_type": "execute_result"
    }
   ],
   "source": [
    "# Crear un array segun la lista\n",
    "y1 = y.reshape((3,4))\n",
    "y1"
   ]
  },
  {
   "cell_type": "code",
   "execution_count": 38,
   "id": "5ee7d00b-b2f1-437c-bd48-2a0ca7cb6b4a",
   "metadata": {},
   "outputs": [
    {
     "data": {
      "text/plain": [
       "numpy.ndarray"
      ]
     },
     "execution_count": 38,
     "metadata": {},
     "output_type": "execute_result"
    }
   ],
   "source": [
    "type(y1)"
   ]
  }
 ],
 "metadata": {
  "kernelspec": {
   "display_name": "Python 3 (ipykernel)",
   "language": "python",
   "name": "python3"
  },
  "language_info": {
   "codemirror_mode": {
    "name": "ipython",
    "version": 3
   },
   "file_extension": ".py",
   "mimetype": "text/x-python",
   "name": "python",
   "nbconvert_exporter": "python",
   "pygments_lexer": "ipython3",
   "version": "3.9.11"
  }
 },
 "nbformat": 4,
 "nbformat_minor": 5
}
