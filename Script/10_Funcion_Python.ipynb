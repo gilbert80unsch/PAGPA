{
 "cells": [
  {
   "cell_type": "markdown",
   "id": "c05262fb-259e-40cd-a1df-efed4c20737f",
   "metadata": {},
   "source": [
    "# Función\n",
    "\n",
    "**Función.** Una función en `Python` es una pieza de código reutilizable que solo se ejecuta cuando es llamada.\n",
    "\n",
    "Se define usando la palabra reservada `def` y estructura general es la siguiente:"
   ]
  },
  {
   "cell_type": "code",
   "execution_count": null,
   "id": "9367793a-9787-4a32-b30d-4487778cc114",
   "metadata": {},
   "outputs": [],
   "source": [
    "def nombre_funcion(input1, input2, ..., inputn):\n",
    "    cuerpo de la función\n",
    "    return output"
   ]
  },
  {
   "cell_type": "markdown",
   "id": "52eb3e2e-0052-437d-934e-fe37196f2251",
   "metadata": {},
   "source": [
    "**Observación.** La instrucción `return` finaliza la ejecución de la función y devuelve el resultado que se indica a continuación. Si no se indicase nada, la función finalizaría, pero no retornaría nada.\n",
    "\n",
    "Como hemos visto, en general, las funciones constan de 3 partes:\n",
    "\n",
    "- **Inputs (parámetros o argumentos).** Son los valores que le pasamos como entrada a la función.\n",
    "- **Cuerpo.** Son todas las operaciones que lleva a cabo la función.\n",
    "- **Output.** Es el resultado que devuelve la función."
   ]
  },
  {
   "cell_type": "code",
   "execution_count": 1,
   "id": "4ed16a30-4782-4979-a3be-905c8208eff7",
   "metadata": {},
   "outputs": [],
   "source": [
    "def mi_funcion():\n",
    "    print(\"Hola AGPRES\")"
   ]
  },
  {
   "cell_type": "code",
   "execution_count": 2,
   "id": "0f689488-1356-4ef9-9054-665961d86dcd",
   "metadata": {},
   "outputs": [
    {
     "name": "stdout",
     "output_type": "stream",
     "text": [
      "Hola AGPRES\n"
     ]
    }
   ],
   "source": [
    "mi_funcion()"
   ]
  },
  {
   "cell_type": "code",
   "execution_count": 3,
   "id": "c0705ba7-8f79-4812-a3e0-13c86c791588",
   "metadata": {},
   "outputs": [],
   "source": [
    "def indice_ndvi(RED, NIR):\n",
    "    ndvi = (NIR - RED)/(NIR + RED)\n",
    "    return ndvi"
   ]
  },
  {
   "cell_type": "code",
   "execution_count": 4,
   "id": "bb352952-a5d8-44dc-993e-4b731a189809",
   "metadata": {},
   "outputs": [
    {
     "data": {
      "text/plain": [
       "-0.19999999999999996"
      ]
     },
     "execution_count": 4,
     "metadata": {},
     "output_type": "execute_result"
    }
   ],
   "source": [
    "ndvi = indice_ndvi(0.3, 0.2)\n",
    "ndvi"
   ]
  },
  {
   "cell_type": "code",
   "execution_count": 5,
   "id": "e87c81d6-924b-413c-b992-34c1c5af629b",
   "metadata": {},
   "outputs": [
    {
     "name": "stdout",
     "output_type": "stream",
     "text": [
      "Si es verdadero es bosque: False\n"
     ]
    }
   ],
   "source": [
    "print(\"Si es verdadero es bosque: \" + str(ndvi >= 0.4))"
   ]
  },
  {
   "cell_type": "code",
   "execution_count": 6,
   "id": "4b80a849-5a40-4c32-a6c3-57be302141af",
   "metadata": {},
   "outputs": [],
   "source": [
    "def promediolista(Lista):\n",
    "    median = sum(Lista)/len(Lista)\n",
    "    return median"
   ]
  },
  {
   "cell_type": "code",
   "execution_count": 7,
   "id": "33bcc00c-14cf-4304-8785-d2b8e89f8231",
   "metadata": {},
   "outputs": [],
   "source": [
    "datos = [10,15,13,16,12.5,18]"
   ]
  },
  {
   "cell_type": "code",
   "execution_count": 8,
   "id": "f4948456-c52d-4000-9d91-45abb6aad905",
   "metadata": {},
   "outputs": [
    {
     "data": {
      "text/plain": [
       "14.083333333333334"
      ]
     },
     "execution_count": 8,
     "metadata": {},
     "output_type": "execute_result"
    }
   ],
   "source": [
    "media = promediolista(datos)\n",
    "media"
   ]
  },
  {
   "cell_type": "code",
   "execution_count": 9,
   "id": "a1abfe6d-4edc-41c2-8801-585e82a10a0b",
   "metadata": {},
   "outputs": [
    {
     "name": "stdout",
     "output_type": "stream",
     "text": [
      "media de la lista:  14.083333333333334\n"
     ]
    }
   ],
   "source": [
    "print(\"media de la lista: \", media)"
   ]
  },
  {
   "cell_type": "code",
   "execution_count": null,
   "id": "97cf3cf2-c5ef-4929-8d77-32f007199efb",
   "metadata": {},
   "outputs": [],
   "source": []
  }
 ],
 "metadata": {
  "kernelspec": {
   "display_name": "Python 3 (ipykernel)",
   "language": "python",
   "name": "python3"
  },
  "language_info": {
   "codemirror_mode": {
    "name": "ipython",
    "version": 3
   },
   "file_extension": ".py",
   "mimetype": "text/x-python",
   "name": "python",
   "nbconvert_exporter": "python",
   "pygments_lexer": "ipython3",
   "version": "3.9.5"
  }
 },
 "nbformat": 4,
 "nbformat_minor": 5
}
