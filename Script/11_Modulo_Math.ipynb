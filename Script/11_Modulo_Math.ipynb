{
 "cells": [
  {
   "cell_type": "markdown",
   "id": "c3b6d04f-de7d-4e0a-b4b6-86702dd75c57",
   "metadata": {},
   "source": [
    "# Módulos de `math`\n",
    "El módulo `math` nos proporciona funciones matemáticas definidas según los estándares del lenguaje de programación `C`."
   ]
  },
  {
   "cell_type": "code",
   "execution_count": 2,
   "id": "28653a62-530e-42a1-8f18-d5e464a64f8b",
   "metadata": {},
   "outputs": [],
   "source": [
    "import math"
   ]
  },
  {
   "cell_type": "markdown",
   "id": "69d7471e-9475-49cc-96a5-a95b0fc62455",
   "metadata": {},
   "source": [
    "## Constantes del módulo `math`"
   ]
  },
  {
   "cell_type": "markdown",
   "id": "d1872a8e-7e37-4fde-94a6-c1aba0364a0e",
   "metadata": {},
   "source": [
    "El número $\\pi = 3.141492\\dots$ lo obtenemos como atributo del módulo `math` como"
   ]
  },
  {
   "cell_type": "code",
   "execution_count": 15,
   "id": "df28b850-31af-455f-bb01-c1dfa6c1f125",
   "metadata": {},
   "outputs": [
    {
     "data": {
      "text/plain": [
       "3.141592653589793"
      ]
     },
     "execution_count": 15,
     "metadata": {},
     "output_type": "execute_result"
    }
   ],
   "source": [
    "a = math.pi\n",
    "a"
   ]
  },
  {
   "cell_type": "markdown",
   "id": "e9b5569c-3d67-4fd7-a10b-5afd3c733261",
   "metadata": {},
   "source": [
    "El número $e = 2.718281\\dots$ lo botenemos como atributo del módulo `math` como "
   ]
  },
  {
   "cell_type": "code",
   "execution_count": 19,
   "id": "0bb3dc91-cf90-4245-b091-8a323a4dc401",
   "metadata": {},
   "outputs": [
    {
     "data": {
      "text/plain": [
       "5.43656365691809"
      ]
     },
     "execution_count": 19,
     "metadata": {},
     "output_type": "execute_result"
    }
   ],
   "source": [
    "b = math.e*2\n",
    "b"
   ]
  },
  {
   "cell_type": "markdown",
   "id": "23fcaad4-4460-4e1e-9aad-79936b424ea1",
   "metadata": {},
   "source": [
    "## Métodos del módulo `math`"
   ]
  },
  {
   "cell_type": "markdown",
   "id": "f9bfd80f-b9fe-4fbd-8879-3404f372c5e2",
   "metadata": {},
   "source": [
    "### Parte entera de un número\n",
    "\n",
    "**Parte entera de $x$.** Dado un número real $x$, se define su parte entera como el mayor número entero menor o igual que $x$.\n"
   ]
  },
  {
   "cell_type": "markdown",
   "id": "8b5585fc-51c5-44e1-8bd6-6d700fa6ce03",
   "metadata": {},
   "source": [
    "#### Método parte entera número real `floor()`\n",
    "Para obtener la parte entera de un número real, podemos usar el método `.floor()`"
   ]
  },
  {
   "cell_type": "code",
   "execution_count": 22,
   "id": "10303268-2443-45d3-baa7-0927f72f05eb",
   "metadata": {},
   "outputs": [
    {
     "data": {
      "text/plain": [
       "2"
      ]
     },
     "execution_count": 22,
     "metadata": {},
     "output_type": "execute_result"
    }
   ],
   "source": [
    "x = 2.99\n",
    "math.floor(x)"
   ]
  },
  {
   "cell_type": "markdown",
   "id": "c38fc5db-0d29-4ab2-b61b-5976780ab211",
   "metadata": {},
   "source": [
    "#### Método por exceso `ceil()`\n",
    "**Parte entera por exceso de $x$.** Dado un número real $x$, se define su parte entera por exceso como el menor número entero mayor o igual que $x$.\n",
    "\n",
    "Para obtener la parte entera por exceso de un número real, podemos usar el método `.ceil()`"
   ]
  },
  {
   "cell_type": "code",
   "execution_count": 28,
   "id": "051654fd-cd91-40f5-b41e-1c60e5ecc992",
   "metadata": {},
   "outputs": [
    {
     "data": {
      "text/plain": [
       "3"
      ]
     },
     "execution_count": 28,
     "metadata": {},
     "output_type": "execute_result"
    }
   ],
   "source": [
    "x = 2.000000001\n",
    "math.ceil(x)"
   ]
  },
  {
   "cell_type": "code",
   "execution_count": 29,
   "id": "04e7e1cc-3ad9-4be3-b648-67a2e51cac5d",
   "metadata": {},
   "outputs": [
    {
     "data": {
      "text/plain": [
       "-3"
      ]
     },
     "execution_count": 29,
     "metadata": {},
     "output_type": "execute_result"
    }
   ],
   "source": [
    "x = -3.1415\n",
    "math.ceil(x)"
   ]
  },
  {
   "cell_type": "markdown",
   "id": "b508778c-6e38-41aa-ab4d-1b2e1c0072be",
   "metadata": {},
   "source": [
    "#### Método `trunc()` devuelve número entero"
   ]
  },
  {
   "cell_type": "markdown",
   "id": "2b887c62-009e-483b-b3ca-0c0c9cf28bbc",
   "metadata": {},
   "source": [
    "Existen otra función más que dado un número real, nos devuelven su parte entera. Se trata de la función de truncamiento.\n",
    "\n",
    "Para truncar un número, utilizamos el método `.trunc()`"
   ]
  },
  {
   "cell_type": "code",
   "execution_count": 32,
   "id": "18f8ae3a-2e91-4154-b1ea-a8ed680a0ffc",
   "metadata": {},
   "outputs": [
    {
     "data": {
      "text/plain": [
       "2"
      ]
     },
     "execution_count": 32,
     "metadata": {},
     "output_type": "execute_result"
    }
   ],
   "source": [
    "x = 2.0001\n",
    "math.trunc(x)"
   ]
  },
  {
   "cell_type": "code",
   "execution_count": 33,
   "id": "c2b1ef6b-c3c0-4dc5-880c-cc117d4869e0",
   "metadata": {},
   "outputs": [
    {
     "data": {
      "text/plain": [
       "-3"
      ]
     },
     "execution_count": 33,
     "metadata": {},
     "output_type": "execute_result"
    }
   ],
   "source": [
    "x = -3.1415\n",
    "math.trunc(x)"
   ]
  },
  {
   "cell_type": "markdown",
   "id": "bf8fd05d-8677-4317-8bbc-6b8888b94581",
   "metadata": {},
   "source": [
    "#### Método `modf()` consigue decimal y entero"
   ]
  },
  {
   "cell_type": "markdown",
   "id": "66d5f3fb-0694-43fa-8a3f-b7771e8ce483",
   "metadata": {},
   "source": [
    "Con el método `.modf()` conseguimos la tupla de parte decimal y entera de un número real $x$"
   ]
  },
  {
   "cell_type": "code",
   "execution_count": 37,
   "id": "72372e8f-ba03-4db7-a453-131a1cfe326e",
   "metadata": {},
   "outputs": [
    {
     "data": {
      "text/plain": [
       "tuple"
      ]
     },
     "execution_count": 37,
     "metadata": {},
     "output_type": "execute_result"
    }
   ],
   "source": [
    "a = math.modf(4.25)\n",
    "type(a)"
   ]
  },
  {
   "cell_type": "code",
   "execution_count": 10,
   "id": "536f5356-2eb5-4e29-a47f-f2c47e685888",
   "metadata": {},
   "outputs": [
    {
     "data": {
      "text/plain": [
       "(-0.14150000000000018, -3.0)"
      ]
     },
     "execution_count": 10,
     "metadata": {},
     "output_type": "execute_result"
    }
   ],
   "source": [
    "math.modf(-3.1415)"
   ]
  },
  {
   "cell_type": "markdown",
   "id": "576ff48c-29d4-433e-b7d2-2f2169d39587",
   "metadata": {},
   "source": [
    "### Potencias y logaritmos\n",
    "#### Método `exp()`\n",
    "El método `.exp()` nos devuelve el número $e^x$ donde $x$ es el valor indicado por parámetro"
   ]
  },
  {
   "cell_type": "code",
   "execution_count": 38,
   "id": "2c7c3fd4-5ee5-4674-8b35-81b9c6b18010",
   "metadata": {},
   "outputs": [
    {
     "data": {
      "text/plain": [
       "7.38905609893065"
      ]
     },
     "execution_count": 38,
     "metadata": {},
     "output_type": "execute_result"
    }
   ],
   "source": [
    "math.exp(2)"
   ]
  },
  {
   "cell_type": "markdown",
   "id": "03802964-3f2b-436d-97dd-5c405836cc45",
   "metadata": {},
   "source": [
    "**Observación.** Por tanto, el número $e$ en `Python` se puede obtener como la función exponencial para $x = 1$. No obstante, recordemos que el módulo  `math` tiene el atributo `e` que es precisamente dicho número"
   ]
  },
  {
   "cell_type": "code",
   "execution_count": 39,
   "id": "52c4c53d-abdc-4ffb-babd-bc87eec44236",
   "metadata": {},
   "outputs": [
    {
     "data": {
      "text/plain": [
       "2.718281828459045"
      ]
     },
     "execution_count": 39,
     "metadata": {},
     "output_type": "execute_result"
    }
   ],
   "source": [
    "e = math.exp(1)\n",
    "e"
   ]
  },
  {
   "cell_type": "code",
   "execution_count": 40,
   "id": "c9218760-c087-4dfa-a791-41e01f58a588",
   "metadata": {},
   "outputs": [
    {
     "data": {
      "text/plain": [
       "2.718281828459045"
      ]
     },
     "execution_count": 40,
     "metadata": {},
     "output_type": "execute_result"
    }
   ],
   "source": [
    "math.e"
   ]
  },
  {
   "cell_type": "markdown",
   "id": "bcd13f23-da29-4bdb-82ff-a0f8a07c0de5",
   "metadata": {},
   "source": [
    "#### Método `log()` \n",
    "Nos devuelve resultados diferentes según los argumentos proporcionados:\n",
    "\n",
    "* Si solamente indicamos el número $x$ al que queremos aplicar el logaritmo, entonces se nos devuelve el resultado de calcular el logaritmo neperiano (logaritmo en base $e$) de $x$\n",
    "* Si introducimos dos parámetros, el primero será el número $x$ al que aplicamos el logaritmo, y el segundo, la base."
   ]
  },
  {
   "cell_type": "code",
   "execution_count": 41,
   "id": "e1bacb7d-8505-421f-b8e6-bfa72d419d55",
   "metadata": {},
   "outputs": [
    {
     "data": {
      "text/plain": [
       "4.007333185232471"
      ]
     },
     "execution_count": 41,
     "metadata": {},
     "output_type": "execute_result"
    }
   ],
   "source": [
    "# Logaritmo neperiano de 55\n",
    "math.log(55)"
   ]
  },
  {
   "cell_type": "code",
   "execution_count": 42,
   "id": "0e68f348-be47-4211-a8d3-fc1c1c6947e4",
   "metadata": {},
   "outputs": [
    {
     "data": {
      "text/plain": [
       "4.007333185232471"
      ]
     },
     "execution_count": 42,
     "metadata": {},
     "output_type": "execute_result"
    }
   ],
   "source": [
    "# Logaritmo neperiano de 55\n",
    "math.log(55, math.e)"
   ]
  },
  {
   "cell_type": "markdown",
   "id": "613da771-2143-4d56-878b-423b1d496a8a",
   "metadata": {},
   "source": [
    "El método `.log2()` nos devuelve el logaritmo en base 2 de $x$, $\\log_2(x)$, siendo $x$ el número real que introducimos por parámetro"
   ]
  },
  {
   "cell_type": "code",
   "execution_count": 43,
   "id": "7b8157cc-29ce-41a1-851c-122ad681d218",
   "metadata": {},
   "outputs": [
    {
     "data": {
      "text/plain": [
       "10.0"
      ]
     },
     "execution_count": 43,
     "metadata": {},
     "output_type": "execute_result"
    }
   ],
   "source": [
    "math.log2(1024)"
   ]
  },
  {
   "cell_type": "code",
   "execution_count": 44,
   "id": "ea0a58aa-3bc3-4c0a-a436-46096640e7a2",
   "metadata": {},
   "outputs": [
    {
     "data": {
      "text/plain": [
       "10.0"
      ]
     },
     "execution_count": 44,
     "metadata": {},
     "output_type": "execute_result"
    }
   ],
   "source": [
    "math.log(1024, 2)"
   ]
  },
  {
   "cell_type": "markdown",
   "id": "e209fd8e-58d7-484f-8d48-e551e7792d20",
   "metadata": {},
   "source": [
    "Del mismo modo, existe el método `.log10()` para calcular el logaritmo en base 10 de $x$, $\\log_{10}(x)$"
   ]
  },
  {
   "cell_type": "code",
   "execution_count": 45,
   "id": "0f3defa4-7c44-44b2-8746-e0d41dfc7580",
   "metadata": {},
   "outputs": [
    {
     "data": {
      "text/plain": [
       "2.0"
      ]
     },
     "execution_count": 45,
     "metadata": {},
     "output_type": "execute_result"
    }
   ],
   "source": [
    "math.log10(100)"
   ]
  },
  {
   "cell_type": "code",
   "execution_count": 46,
   "id": "34616e50-c2da-4ed1-a250-aa0a29ef345d",
   "metadata": {},
   "outputs": [
    {
     "data": {
      "text/plain": [
       "2.0"
      ]
     },
     "execution_count": 46,
     "metadata": {},
     "output_type": "execute_result"
    }
   ],
   "source": [
    "# Logaritmo en base 10 de 100\n",
    "math.log(100, 10)"
   ]
  },
  {
   "cell_type": "markdown",
   "id": "f4000df2-f007-4d72-9bae-ebe186f4da09",
   "metadata": {},
   "source": [
    "#### Método `pow()`\n",
    "Nos calcula la potencia $x^y$, siendo `x` el primer parámetro indicado e `y` el segundo."
   ]
  },
  {
   "cell_type": "code",
   "execution_count": 48,
   "id": "8069a031-f0c0-418c-93ee-39129af4bbf0",
   "metadata": {},
   "outputs": [
    {
     "data": {
      "text/plain": [
       "8.0"
      ]
     },
     "execution_count": 48,
     "metadata": {},
     "output_type": "execute_result"
    }
   ],
   "source": [
    "math.pow(2, 3)"
   ]
  },
  {
   "cell_type": "code",
   "execution_count": 49,
   "id": "417ef94d-92b9-4352-9263-b2a8830a11ab",
   "metadata": {},
   "outputs": [
    {
     "data": {
      "text/plain": [
       "8"
      ]
     },
     "execution_count": 49,
     "metadata": {},
     "output_type": "execute_result"
    }
   ],
   "source": [
    "2 ** 3"
   ]
  },
  {
   "cell_type": "markdown",
   "id": "02cad36f-7295-4a31-bcd5-eac8c3db8117",
   "metadata": {},
   "source": [
    "#### Método `sqrt()` \n",
    "Aplicado a un número entero $n$ nos devuelve la raíz cuadrada de dicho número entero $n$."
   ]
  },
  {
   "cell_type": "code",
   "execution_count": 50,
   "id": "81481ecd-8c64-4fc4-86eb-e34ba7c47a09",
   "metadata": {},
   "outputs": [
    {
     "data": {
      "text/plain": [
       "5.0"
      ]
     },
     "execution_count": 50,
     "metadata": {},
     "output_type": "execute_result"
    }
   ],
   "source": [
    "math.sqrt(25)"
   ]
  },
  {
   "cell_type": "code",
   "execution_count": 51,
   "id": "5b5168a1-e434-48b1-a1d1-8535b6a77443",
   "metadata": {},
   "outputs": [
    {
     "data": {
      "text/plain": [
       "8.774964387392123"
      ]
     },
     "execution_count": 51,
     "metadata": {},
     "output_type": "execute_result"
    }
   ],
   "source": [
    "math.sqrt(77)"
   ]
  },
  {
   "cell_type": "markdown",
   "id": "0a7120a3-15a0-4e18-adca-b8e999da2a70",
   "metadata": {},
   "source": [
    "### Valor absoluto\n",
    "\n",
    "Para calcular el valor absoluto de un número real $x$, utilizamos el método `.fabs()`"
   ]
  },
  {
   "cell_type": "code",
   "execution_count": 52,
   "id": "7b0099e1-3bc2-45ac-bbc8-085950893312",
   "metadata": {},
   "outputs": [
    {
     "data": {
      "text/plain": [
       "2.36"
      ]
     },
     "execution_count": 52,
     "metadata": {},
     "output_type": "execute_result"
    }
   ],
   "source": [
    "x = -2.36\n",
    "math.fabs(x)"
   ]
  },
  {
   "cell_type": "markdown",
   "id": "1a7804b8-5a1c-4d0e-bca7-bdbe6e2e310a",
   "metadata": {},
   "source": [
    "### Signo\n",
    "\n",
    "Dados dos números reales $x$ e $y$, si usamos el método `.copysign()` obtendremos como resultado el valor absoluto del primer parámetro introducido, $x$, pero con el signo dado por el segundo parámetro, $y$."
   ]
  },
  {
   "cell_type": "code",
   "execution_count": 53,
   "id": "4b2070df-faf3-41b7-944d-9d01fee8770f",
   "metadata": {},
   "outputs": [
    {
     "data": {
      "text/plain": [
       "-2.5"
      ]
     },
     "execution_count": 53,
     "metadata": {},
     "output_type": "execute_result"
    }
   ],
   "source": [
    "x = 2.5\n",
    "y = -3.4\n",
    "math.copysign(x, y)"
   ]
  },
  {
   "cell_type": "code",
   "execution_count": 4,
   "id": "731c706c-ad8f-4a38-9241-504651078af2",
   "metadata": {},
   "outputs": [
    {
     "data": {
      "text/plain": [
       "-2.5"
      ]
     },
     "execution_count": 4,
     "metadata": {},
     "output_type": "execute_result"
    }
   ],
   "source": [
    "x = 2.5\n",
    "y = -3.4\n",
    "math.copysign(x, y)"
   ]
  },
  {
   "cell_type": "markdown",
   "id": "7903051e-89c8-4860-8a14-d8b147d75211",
   "metadata": {},
   "source": [
    "### Funciones trigonométricas\n",
    "\n",
    "Todas las funciones tringonométricas toman como parámetro radianes o bien, devuelven el resultado en radianes."
   ]
  },
  {
   "cell_type": "markdown",
   "id": "df35a297-32a9-40b0-a7a4-967efb3d35a5",
   "metadata": {},
   "source": [
    "#### Convertir grados a radianes\n",
    "Podemos usar el método `.radians()`"
   ]
  },
  {
   "cell_type": "code",
   "execution_count": 55,
   "id": "3d450571-2711-40b2-aa07-c7f3a660c660",
   "metadata": {},
   "outputs": [
    {
     "data": {
      "text/plain": [
       "1.5707963267948966"
      ]
     },
     "execution_count": 55,
     "metadata": {},
     "output_type": "execute_result"
    }
   ],
   "source": [
    "math.radians(90)"
   ]
  },
  {
   "cell_type": "code",
   "execution_count": 56,
   "id": "36833b2f-e738-405f-a4da-b09df6c00c23",
   "metadata": {},
   "outputs": [
    {
     "data": {
      "text/plain": [
       "1.5707963267948966"
      ]
     },
     "execution_count": 56,
     "metadata": {},
     "output_type": "execute_result"
    }
   ],
   "source": [
    "# Formula para convertir grados a radianes\n",
    "90*math.pi/180"
   ]
  },
  {
   "cell_type": "markdown",
   "id": "2cae09c9-22c1-4561-bb97-517348ce178c",
   "metadata": {},
   "source": [
    "#### Convertir radianes a grados\n",
    "Podemos usar el método `.degrees()`"
   ]
  },
  {
   "cell_type": "code",
   "execution_count": 57,
   "id": "65c4d2e1-61a4-4f23-96e7-d6b6e629abfe",
   "metadata": {},
   "outputs": [
    {
     "data": {
      "text/plain": [
       "90.0"
      ]
     },
     "execution_count": 57,
     "metadata": {},
     "output_type": "execute_result"
    }
   ],
   "source": [
    "math.degrees(math.pi/2)"
   ]
  },
  {
   "cell_type": "code",
   "execution_count": 58,
   "id": "843634fc-9592-47b8-9707-35a86800fc5c",
   "metadata": {},
   "outputs": [
    {
     "data": {
      "text/plain": [
       "90.0"
      ]
     },
     "execution_count": 58,
     "metadata": {},
     "output_type": "execute_result"
    }
   ],
   "source": [
    "# Formula para convertir radianes a grados\n",
    "1.5707963267948966*180/math.pi"
   ]
  },
  {
   "cell_type": "markdown",
   "id": "f36fe05a-a5c4-4fd3-b7d8-aef8be286861",
   "metadata": {},
   "source": [
    "#### Método seno\n",
    "Se calcula con el método `.sin()`"
   ]
  },
  {
   "cell_type": "code",
   "execution_count": 59,
   "id": "48cb8250-bdc8-4362-a498-26e0dd48d84f",
   "metadata": {},
   "outputs": [
    {
     "data": {
      "text/plain": [
       "1.0"
      ]
     },
     "execution_count": 59,
     "metadata": {},
     "output_type": "execute_result"
    }
   ],
   "source": [
    "math.sin(math.pi/2)"
   ]
  },
  {
   "cell_type": "markdown",
   "id": "1905b6b8-d298-407c-9dff-6bb6347e02e2",
   "metadata": {},
   "source": [
    "#### Método coseno\n",
    "Se calcula con el método `.cos()`"
   ]
  },
  {
   "cell_type": "code",
   "execution_count": 60,
   "id": "1c6f7feb-58c1-45c7-b2b4-1d2778737503",
   "metadata": {},
   "outputs": [
    {
     "data": {
      "text/plain": [
       "6.123233995736766e-17"
      ]
     },
     "execution_count": 60,
     "metadata": {},
     "output_type": "execute_result"
    }
   ],
   "source": [
    "math.cos(math.pi/2)"
   ]
  },
  {
   "cell_type": "markdown",
   "id": "3006f4fd-608c-4634-b2af-2dd2dca47b49",
   "metadata": {},
   "source": [
    "#### Método tangente\n",
    "Se calcula con el método `.tan()`"
   ]
  },
  {
   "cell_type": "code",
   "execution_count": 61,
   "id": "fa5b7420-555a-495c-9320-5d25634bff64",
   "metadata": {},
   "outputs": [
    {
     "data": {
      "text/plain": [
       "0.9999999999999999"
      ]
     },
     "execution_count": 61,
     "metadata": {},
     "output_type": "execute_result"
    }
   ],
   "source": [
    "math.tan(math.pi/4)"
   ]
  },
  {
   "cell_type": "markdown",
   "id": "f4540aa1-d9a7-4362-9737-425e310a331e",
   "metadata": {},
   "source": [
    "#### Método arcseno\n",
    "Se calcula con el método `.asin()`"
   ]
  },
  {
   "cell_type": "code",
   "execution_count": 62,
   "id": "fcecbca4-c022-4e6a-a016-276df4b94045",
   "metadata": {},
   "outputs": [
    {
     "data": {
      "text/plain": [
       "1.5707963267948966"
      ]
     },
     "execution_count": 62,
     "metadata": {},
     "output_type": "execute_result"
    }
   ],
   "source": [
    "math.asin(1)"
   ]
  },
  {
   "cell_type": "markdown",
   "id": "fc0ba5dc-b3e6-4b3b-8ec6-61d64762d9fc",
   "metadata": {},
   "source": [
    "#### Método arcocoseno\n",
    "Se calcula con el método `.acos()`"
   ]
  },
  {
   "cell_type": "code",
   "execution_count": 63,
   "id": "137286dc-9cca-41c0-8f44-1a15dd841e7d",
   "metadata": {},
   "outputs": [
    {
     "data": {
      "text/plain": [
       "1.5707963267948966"
      ]
     },
     "execution_count": 63,
     "metadata": {},
     "output_type": "execute_result"
    }
   ],
   "source": [
    "math.acos(0)"
   ]
  },
  {
   "cell_type": "markdown",
   "id": "6707691d-a98f-4120-874f-b3283eeda048",
   "metadata": {},
   "source": [
    "#### Método arcotangente\n",
    "Se calcula con el método `.atan()`"
   ]
  },
  {
   "cell_type": "code",
   "execution_count": 64,
   "id": "b9c6abce-2e24-4945-9958-be977fd458f1",
   "metadata": {},
   "outputs": [
    {
     "data": {
      "text/plain": [
       "0.7853981633974483"
      ]
     },
     "execution_count": 64,
     "metadata": {},
     "output_type": "execute_result"
    }
   ],
   "source": [
    "math.atan(1)"
   ]
  }
 ],
 "metadata": {
  "kernelspec": {
   "display_name": "Python 3 (ipykernel)",
   "language": "python",
   "name": "python3"
  },
  "language_info": {
   "codemirror_mode": {
    "name": "ipython",
    "version": 3
   },
   "file_extension": ".py",
   "mimetype": "text/x-python",
   "name": "python",
   "nbconvert_exporter": "python",
   "pygments_lexer": "ipython3",
   "version": "3.9.5"
  }
 },
 "nbformat": 4,
 "nbformat_minor": 5
}
