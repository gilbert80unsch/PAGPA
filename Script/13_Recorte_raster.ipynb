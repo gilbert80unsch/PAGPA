{
 "cells": [
  {
   "cell_type": "markdown",
   "id": "05401173-5bbb-4707-8222-febffade65fb",
   "metadata": {},
   "source": [
    "## Recorte mediante Shapefile"
   ]
  },
  {
   "cell_type": "code",
   "execution_count": 1,
   "id": "70750f98-d39c-46b6-ab35-4cb2dcef01f2",
   "metadata": {},
   "outputs": [],
   "source": [
    "import os,glob"
   ]
  },
  {
   "cell_type": "code",
   "execution_count": 2,
   "id": "fe97c494-0c2a-49d0-a15c-a65566678bc6",
   "metadata": {},
   "outputs": [
    {
     "data": {
      "text/plain": [
       "'E:\\\\Python\\\\Agricultura_Python\\\\Datos\\\\LC09_L2SP_006066_20220626'"
      ]
     },
     "execution_count": 2,
     "metadata": {},
     "output_type": "execute_result"
    }
   ],
   "source": [
    "ruta_archivos = r\"E:\\Python\\Agricultura_Python\\Datos\\LC09_L2SP_006066_20220626\"\n",
    "os.chdir(ruta_archivos)\n",
    "os.getcwd()"
   ]
  },
  {
   "cell_type": "code",
   "execution_count": 3,
   "id": "47f6d394-1fec-4f4f-a9ea-47ec73272af2",
   "metadata": {},
   "outputs": [
    {
     "data": {
      "text/plain": [
       "['LC09_L2SP_006066_20220626_RS_B1234567.tif']"
      ]
     },
     "execution_count": 3,
     "metadata": {},
     "output_type": "execute_result"
    }
   ],
   "source": [
    "lista = glob.glob(\"*B1234567*.tif\")\n",
    "lista"
   ]
  },
  {
   "cell_type": "code",
   "execution_count": 6,
   "id": "e5dd4e5f-30f1-4b1d-9031-1d9c35f83c24",
   "metadata": {},
   "outputs": [],
   "source": [
    "#!pip install rioxarray"
   ]
  },
  {
   "cell_type": "code",
   "execution_count": 7,
   "id": "64101e8d-0cbf-4315-a060-58639f91878c",
   "metadata": {},
   "outputs": [],
   "source": [
    "import rioxarray as rxr"
   ]
  },
  {
   "cell_type": "code",
   "execution_count": 8,
   "id": "a50fbba3-f72a-48d6-a31e-e75a67e5a87a",
   "metadata": {},
   "outputs": [],
   "source": [
    "L9_RS_B1234567 = rxr.open_rasterio(lista[0], masked=True)"
   ]
  },
  {
   "cell_type": "code",
   "execution_count": 10,
   "id": "6fa6dfb1-494e-4cbf-b71a-027d17dd8e50",
   "metadata": {},
   "outputs": [],
   "source": [
    "import geopandas as gpd"
   ]
  },
  {
   "cell_type": "code",
   "execution_count": 11,
   "id": "4e97a827-6f9b-4f42-87b2-c187367b0e30",
   "metadata": {},
   "outputs": [],
   "source": [
    "shp = gpd.read_file(r\"E:\\Python\\Agricultura_Python\\Datos\\shp\\ZONA_18N.shp\")"
   ]
  },
  {
   "cell_type": "code",
   "execution_count": 12,
   "id": "2b3493e1-098b-4b64-b771-636a991cda38",
   "metadata": {},
   "outputs": [
    {
     "data": {
      "text/html": [
       "<div>\n",
       "<style scoped>\n",
       "    .dataframe tbody tr th:only-of-type {\n",
       "        vertical-align: middle;\n",
       "    }\n",
       "\n",
       "    .dataframe tbody tr th {\n",
       "        vertical-align: top;\n",
       "    }\n",
       "\n",
       "    .dataframe thead th {\n",
       "        text-align: right;\n",
       "    }\n",
       "</style>\n",
       "<table border=\"1\" class=\"dataframe\">\n",
       "  <thead>\n",
       "    <tr style=\"text-align: right;\">\n",
       "      <th></th>\n",
       "      <th>minx</th>\n",
       "      <th>miny</th>\n",
       "      <th>maxx</th>\n",
       "      <th>maxy</th>\n",
       "    </tr>\n",
       "  </thead>\n",
       "  <tbody>\n",
       "    <tr>\n",
       "      <th>0</th>\n",
       "      <td>504625.860618</td>\n",
       "      <td>-950918.694624</td>\n",
       "      <td>518955.896229</td>\n",
       "      <td>-937003.021488</td>\n",
       "    </tr>\n",
       "  </tbody>\n",
       "</table>\n",
       "</div>"
      ],
      "text/plain": [
       "            minx           miny           maxx           maxy\n",
       "0  504625.860618 -950918.694624  518955.896229 -937003.021488"
      ]
     },
     "execution_count": 12,
     "metadata": {},
     "output_type": "execute_result"
    }
   ],
   "source": [
    "Extension = shp.bounds\n",
    "Extension"
   ]
  },
  {
   "cell_type": "code",
   "execution_count": 13,
   "id": "c894994c-6bb6-4cfe-9028-d53f229b8989",
   "metadata": {},
   "outputs": [],
   "source": [
    "minx = Extension.loc[0, \"minx\"]\n",
    "miny = Extension.loc[0, \"miny\"]\n",
    "maxx = Extension.loc[0, \"maxx\"]\n",
    "maxy = Extension.loc[0, \"maxy\"]"
   ]
  },
  {
   "cell_type": "markdown",
   "id": "2162d0f6-5008-4fac-8d26-6af905f10129",
   "metadata": {},
   "source": [
    "### Recortar segun extensión Shapefile"
   ]
  },
  {
   "cell_type": "code",
   "execution_count": 14,
   "id": "3cb70bbb-51e5-4117-bc21-0e0efeef95a9",
   "metadata": {},
   "outputs": [],
   "source": [
    "# Recortar segun extension shp\n",
    "L9_RS_B1234567_extension = L9_RS_B1234567.rio.clip_box(minx, miny, maxx, maxy,)"
   ]
  },
  {
   "cell_type": "markdown",
   "id": "94667a9d-1bbe-4f65-918b-2f04630eff9a",
   "metadata": {},
   "source": [
    "### Recortar segun Geometría Shapefile"
   ]
  },
  {
   "cell_type": "code",
   "execution_count": 15,
   "id": "52e7c037-699c-4adb-8362-03e1949d8769",
   "metadata": {},
   "outputs": [],
   "source": [
    "# Recortar segun geometria shp\n",
    "L9_RS_B1234567_geometria = L9_RS_B1234567.rio.clip(shp.geometry)"
   ]
  },
  {
   "cell_type": "markdown",
   "id": "903a3903-c0f8-438b-b93b-f050f7330a64",
   "metadata": {},
   "source": [
    "### Exportar Recortado"
   ]
  },
  {
   "cell_type": "code",
   "execution_count": 16,
   "id": "89a191f9-d215-489c-adb0-30db8c02565b",
   "metadata": {},
   "outputs": [
    {
     "data": {
      "text/plain": [
       "'E:\\\\Python\\\\Agricultura_Python\\\\Datos\\\\LC09_L2SP_006066_20220626\\\\LC09_L2SP_006066_20220626_RS_B1234567_Clip_extension.tif'"
      ]
     },
     "execution_count": 16,
     "metadata": {},
     "output_type": "execute_result"
    }
   ],
   "source": [
    "# Crear nombre de salida\n",
    "name_RS_geom = os.getcwd() +\"\\\\\"+ lista[0][0:25] + \"_RS_B1234567_Clip_geometria.tif\"\n",
    "name_RS_ext = os.getcwd() +\"\\\\\"+ lista[0][0:25] + \"_RS_B1234567_Clip_extension.tif\"\n",
    "name_RS_ext"
   ]
  },
  {
   "cell_type": "code",
   "execution_count": 17,
   "id": "e90bbe2b-35b8-4b0c-a401-92c1ac2ea6df",
   "metadata": {},
   "outputs": [],
   "source": [
    "L9_RS_B1234567_extension.rio.to_raster(name_RS_ext)\n",
    "L9_RS_B1234567_geometria.rio.to_raster(name_RS_geom)"
   ]
  },
  {
   "cell_type": "code",
   "execution_count": null,
   "id": "751e1d7d-b6f2-459b-b7f8-e055f2e27182",
   "metadata": {},
   "outputs": [],
   "source": []
  }
 ],
 "metadata": {
  "kernelspec": {
   "display_name": "Python 3 (ipykernel)",
   "language": "python",
   "name": "python3"
  },
  "language_info": {
   "codemirror_mode": {
    "name": "ipython",
    "version": 3
   },
   "file_extension": ".py",
   "mimetype": "text/x-python",
   "name": "python",
   "nbconvert_exporter": "python",
   "pygments_lexer": "ipython3",
   "version": "3.9.11"
  }
 },
 "nbformat": 4,
 "nbformat_minor": 5
}
