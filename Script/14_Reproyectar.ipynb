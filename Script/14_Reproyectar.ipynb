{
 "cells": [
  {
   "cell_type": "markdown",
   "id": "05401173-5bbb-4707-8222-febffade65fb",
   "metadata": {},
   "source": [
    "## Recorte mediante Shapefile"
   ]
  },
  {
   "cell_type": "code",
   "execution_count": 1,
   "id": "70750f98-d39c-46b6-ab35-4cb2dcef01f2",
   "metadata": {},
   "outputs": [],
   "source": [
    "import os,glob"
   ]
  },
  {
   "cell_type": "code",
   "execution_count": 2,
   "id": "fe97c494-0c2a-49d0-a15c-a65566678bc6",
   "metadata": {},
   "outputs": [
    {
     "data": {
      "text/plain": [
       "'E:\\\\Python\\\\Agricultura_Python\\\\Datos\\\\LC09_L2SP_006066_20220626'"
      ]
     },
     "execution_count": 2,
     "metadata": {},
     "output_type": "execute_result"
    }
   ],
   "source": [
    "ruta_archivos = r\"E:\\Python\\Agricultura_Python\\Datos\\LC09_L2SP_006066_20220626\"\n",
    "os.chdir(ruta_archivos)\n",
    "os.getcwd()"
   ]
  },
  {
   "cell_type": "code",
   "execution_count": 3,
   "id": "47f6d394-1fec-4f4f-a9ea-47ec73272af2",
   "metadata": {},
   "outputs": [
    {
     "data": {
      "text/plain": [
       "['LC09_L2SP_006066_20220626_RS_B1234567_Clip_extension.tif',\n",
       " 'LC09_L2SP_006066_20220626_RS_B1234567_Clip_geometria.tif']"
      ]
     },
     "execution_count": 3,
     "metadata": {},
     "output_type": "execute_result"
    }
   ],
   "source": [
    "lista = glob.glob(\"*clip*.tif\")\n",
    "lista"
   ]
  },
  {
   "cell_type": "code",
   "execution_count": 4,
   "id": "64101e8d-0cbf-4315-a060-58639f91878c",
   "metadata": {},
   "outputs": [],
   "source": [
    "import rasterio\n",
    "from rasterio.warp import calculate_default_transform, reproject"
   ]
  },
  {
   "cell_type": "code",
   "execution_count": 41,
   "id": "a50fbba3-f72a-48d6-a31e-e75a67e5a87a",
   "metadata": {},
   "outputs": [],
   "source": [
    "L9_clip = rasterio.open(lista[0])"
   ]
  },
  {
   "cell_type": "code",
   "execution_count": 6,
   "id": "621ffd25-6137-4daf-bd14-744ad3389fe1",
   "metadata": {},
   "outputs": [
    {
     "data": {
      "text/plain": [
       "CRS.from_wkt('PROJCS[\"WGS 84 / UTM zone 18N\",GEOGCS[\"WGS 84\",DATUM[\"World Geodetic System 1984\",SPHEROID[\"WGS 84\",6378137,298.257223563]],PRIMEM[\"Greenwich\",0],UNIT[\"degree\",0.0174532925199433,AUTHORITY[\"EPSG\",\"9122\"]]],PROJECTION[\"Transverse_Mercator\"],PARAMETER[\"latitude_of_origin\",0],PARAMETER[\"central_meridian\",-75],PARAMETER[\"scale_factor\",0.9996],PARAMETER[\"false_easting\",500000],PARAMETER[\"false_northing\",0],UNIT[\"metre\",1,AUTHORITY[\"EPSG\",\"9001\"]],AXIS[\"Easting\",EAST],AXIS[\"Northing\",NORTH]]')"
      ]
     },
     "execution_count": 6,
     "metadata": {},
     "output_type": "execute_result"
    }
   ],
   "source": [
    "# Consultar proyeccion\n",
    "L9_clip.crs"
   ]
  },
  {
   "cell_type": "code",
   "execution_count": 7,
   "id": "8a99455a-83be-4c15-8741-3ed3904dd693",
   "metadata": {},
   "outputs": [
    {
     "data": {
      "text/plain": [
       "Affine(30.0, 0.0, 504615.0,\n",
       "       0.0, -30.0, -936975.0)"
      ]
     },
     "execution_count": 7,
     "metadata": {},
     "output_type": "execute_result"
    }
   ],
   "source": [
    "L9_clip.transform"
   ]
  },
  {
   "cell_type": "code",
   "execution_count": 8,
   "id": "93bfc2e5-c07b-4947-ad10-9c18b601d173",
   "metadata": {},
   "outputs": [
    {
     "data": {
      "text/plain": [
       "479"
      ]
     },
     "execution_count": 8,
     "metadata": {},
     "output_type": "execute_result"
    }
   ],
   "source": [
    "# Columna de la imagen\n",
    "L9_clip.width"
   ]
  },
  {
   "cell_type": "code",
   "execution_count": 9,
   "id": "4af6054b-118a-4d0a-9c7f-e761eb0d3785",
   "metadata": {},
   "outputs": [
    {
     "data": {
      "text/plain": [
       "465"
      ]
     },
     "execution_count": 9,
     "metadata": {},
     "output_type": "execute_result"
    }
   ],
   "source": [
    "# Fila de la imagen\n",
    "L9_clip.height"
   ]
  },
  {
   "cell_type": "code",
   "execution_count": 10,
   "id": "6852a1b0-0362-44a1-ac9b-425d6d684b37",
   "metadata": {},
   "outputs": [
    {
     "data": {
      "text/plain": [
       "BoundingBox(left=504615.0, bottom=-950925.0, right=518985.0, top=-936975.0)"
      ]
     },
     "execution_count": 10,
     "metadata": {},
     "output_type": "execute_result"
    }
   ],
   "source": [
    "# Extension de la imagen\n",
    "L9_clip.bounds"
   ]
  },
  {
   "cell_type": "code",
   "execution_count": 23,
   "id": "7936421a-2970-4c68-a14f-46b28afbc62a",
   "metadata": {},
   "outputs": [],
   "source": [
    "from pyproj.crs import CRS\n",
    "\n",
    "# UTM\n",
    "new_crs = CRS.from_epsg(32718)"
   ]
  },
  {
   "cell_type": "code",
   "execution_count": 24,
   "id": "399b281c-34a3-4560-8153-939ec5a2b3f7",
   "metadata": {},
   "outputs": [],
   "source": [
    "new_transform, width, height = calculate_default_transform(L9_clip.crs, new_crs,\n",
    "                                                           L9_clip.width, L9_clip.height, \n",
    "                                                           *L9_clip.bounds)"
   ]
  },
  {
   "cell_type": "code",
   "execution_count": 25,
   "id": "fbf72a93-122f-40c6-9026-a2e71930facf",
   "metadata": {},
   "outputs": [
    {
     "data": {
      "text/plain": [
       "Affine(29.999999999999563, 0.0, 504614.9999999993,\n",
       "       0.0, -29.999999999999563, 9063025.0)"
      ]
     },
     "execution_count": 25,
     "metadata": {},
     "output_type": "execute_result"
    }
   ],
   "source": [
    "new_transform"
   ]
  },
  {
   "cell_type": "code",
   "execution_count": 26,
   "id": "0a5173b8-07b4-4fec-a517-bac969356f8f",
   "metadata": {},
   "outputs": [
    {
     "data": {
      "text/plain": [
       "{'driver': 'GTiff',\n",
       " 'dtype': 'float64',\n",
       " 'nodata': 0.0,\n",
       " 'width': 479,\n",
       " 'height': 465,\n",
       " 'count': 7,\n",
       " 'crs': CRS.from_wkt('PROJCS[\"WGS 84 / UTM zone 18N\",GEOGCS[\"WGS 84\",DATUM[\"World Geodetic System 1984\",SPHEROID[\"WGS 84\",6378137,298.257223563]],PRIMEM[\"Greenwich\",0],UNIT[\"degree\",0.0174532925199433,AUTHORITY[\"EPSG\",\"9122\"]]],PROJECTION[\"Transverse_Mercator\"],PARAMETER[\"latitude_of_origin\",0],PARAMETER[\"central_meridian\",-75],PARAMETER[\"scale_factor\",0.9996],PARAMETER[\"false_easting\",500000],PARAMETER[\"false_northing\",0],UNIT[\"metre\",1,AUTHORITY[\"EPSG\",\"9001\"]],AXIS[\"Easting\",EAST],AXIS[\"Northing\",NORTH]]'),\n",
       " 'transform': Affine(30.0, 0.0, 504615.0,\n",
       "        0.0, -30.0, -936975.0)}"
      ]
     },
     "execution_count": 26,
     "metadata": {},
     "output_type": "execute_result"
    }
   ],
   "source": [
    "param = L9_clip.meta\n",
    "param"
   ]
  },
  {
   "cell_type": "code",
   "execution_count": 27,
   "id": "80a2ad08-4ce9-4740-8108-ab1fa8c2c1b9",
   "metadata": {},
   "outputs": [
    {
     "data": {
      "text/plain": [
       "{'driver': 'GTiff',\n",
       " 'dtype': 'float64',\n",
       " 'nodata': 0.0,\n",
       " 'width': 479,\n",
       " 'height': 465,\n",
       " 'count': 7,\n",
       " 'crs': <Derived Projected CRS: EPSG:32718>\n",
       " Name: WGS 84 / UTM zone 18S\n",
       " Axis Info [cartesian]:\n",
       " - E[east]: Easting (metre)\n",
       " - N[north]: Northing (metre)\n",
       " Area of Use:\n",
       " - name: Between 78°W and 72°W, southern hemisphere between 80°S and equator, onshore and offshore. Argentina. Brazil. Chile. Colombia. Ecuador. Peru.\n",
       " - bounds: (-78.0, -80.0, -72.0, 0.0)\n",
       " Coordinate Operation:\n",
       " - name: UTM zone 18S\n",
       " - method: Transverse Mercator\n",
       " Datum: World Geodetic System 1984 ensemble\n",
       " - Ellipsoid: WGS 84\n",
       " - Prime Meridian: Greenwich,\n",
       " 'transform': Affine(29.999999999999563, 0.0, 504614.9999999993,\n",
       "        0.0, -29.999999999999563, 9063025.0)}"
      ]
     },
     "execution_count": 27,
     "metadata": {},
     "output_type": "execute_result"
    }
   ],
   "source": [
    "# Configurar parametros de mas bandas y tipo dato\n",
    "param.update(crs = new_crs,\n",
    "             transform = new_transform)\n",
    "param"
   ]
  },
  {
   "cell_type": "markdown",
   "id": "903a3903-c0f8-438b-b93b-f050f7330a64",
   "metadata": {},
   "source": [
    "### Exportar Reproyectado"
   ]
  },
  {
   "cell_type": "code",
   "execution_count": 38,
   "id": "89a191f9-d215-489c-adb0-30db8c02565b",
   "metadata": {},
   "outputs": [
    {
     "data": {
      "text/plain": [
       "'E:\\\\Python\\\\Agricultura_Python\\\\Datos\\\\LC09_L2SP_006066_20220626\\\\LC09_L2SP_006066_20220626_RS_B1234567_Clip_PY.tif'"
      ]
     },
     "execution_count": 38,
     "metadata": {},
     "output_type": "execute_result"
    }
   ],
   "source": [
    "# Crear nombre de salida\n",
    "name_RS_PY = os.getcwd() +\"\\\\\"+ lista[0][0:25] + \"_RS_B1234567_Clip_PY.tif\"\n",
    "name_RS_PY"
   ]
  },
  {
   "cell_type": "code",
   "execution_count": 42,
   "id": "ba8ce781-8bc3-447d-aa74-48742c63c986",
   "metadata": {},
   "outputs": [],
   "source": [
    "import numpy as np"
   ]
  },
  {
   "cell_type": "code",
   "execution_count": 43,
   "id": "ae32aeed-e3d8-49ce-b65a-f0e819301a89",
   "metadata": {},
   "outputs": [],
   "source": [
    "with L9_clip:\n",
    "    imgdata = np.array([L9_clip.read(i) for i in L9_clip.indexes])"
   ]
  },
  {
   "cell_type": "code",
   "execution_count": 44,
   "id": "74f431e7-3d6d-43e9-b851-ae26d031de3d",
   "metadata": {},
   "outputs": [],
   "source": [
    "with rasterio.open(name_RS_PY, 'w', **param) as Proj:\n",
    "    for num, name in enumerate(imgdata, start=1):\n",
    "        Proj.write_band(num, name)"
   ]
  },
  {
   "cell_type": "code",
   "execution_count": null,
   "id": "ba924215-b4d9-45f5-8597-b873de69b06f",
   "metadata": {},
   "outputs": [],
   "source": []
  }
 ],
 "metadata": {
  "kernelspec": {
   "display_name": "Python 3 (ipykernel)",
   "language": "python",
   "name": "python3"
  },
  "language_info": {
   "codemirror_mode": {
    "name": "ipython",
    "version": 3
   },
   "file_extension": ".py",
   "mimetype": "text/x-python",
   "name": "python",
   "nbconvert_exporter": "python",
   "pygments_lexer": "ipython3",
   "version": "3.9.11"
  }
 },
 "nbformat": 4,
 "nbformat_minor": 5
}
